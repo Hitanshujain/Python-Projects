{
 "cells": [
  {
   "cell_type": "markdown",
   "metadata": {
    "colab_type": "text",
    "id": "MlGsu74PRze0"
   },
   "source": [
    "[<h1> FIT5197 Assignment 3 Semester 2, 2020 </h1>](https://lms.monash.edu/mod/assign/view.php?id=7560449)\n",
    "\n",
    "---\n",
    "Authors: Dan Nguyen, Yun Zhao\n",
    "\n",
    "Admins (Competition): Dr. Levin Kuhlmann, Yun Zhao, Anil Gurbuz\n",
    "\n",
    "Proofreaders: Dr. Levin Kuhlmann, Yun Zhao, and other tutors \n",
    "\n",
    "Date: Oct 2020\n",
    "\n",
    "---"
   ]
  },
  {
   "cell_type": "markdown",
   "metadata": {},
   "source": [
    "[<h1> Assignment Instruction </h1>](https://lms.monash.edu/mod/assign/view.php?id=7560449)\n",
    "\n",
    "<span style=\"color:red\"> Please read through the instructions carefully, by submitting the assignment, you are considered to have read all the instructions carefully and be aware of the penalties that entail. </span>"
   ]
  },
  {
   "cell_type": "markdown",
   "metadata": {
    "colab_type": "text",
    "id": "E-lggSuURze1"
   },
   "source": [
    "<h1>Part 1: Regression (50 Marks)</h1>"
   ]
  },
  {
   "cell_type": "markdown",
   "metadata": {
    "colab_type": "text",
    "id": "Ar--DpysOWJd"
   },
   "source": [
    "This part is about regression. Specifically, you will be ``predicting the fuel efficiency`` of a car (in kilometers per litre) based on its characteristics. This is a practical problem as Australia is one of the largest automobile markets in the world; thus, correctly predicting the fuel efficiency is necessary to control emission rates to the environment.\n",
    "\n",
    "The dataset has many observations and predictors obtained from many retailers for car models available for sale from 2017 to 2020. The target variable is the fuel efficiency of the car measured in kilometers per litre. The higher this value, the better the fuel efficiency of the car. \n",
    "\n",
    "PleaseProvide working/R code/justifications for each of these questions as required.\n",
    "\n",
    "$\\textbf{Note:}$ If not explicitly mentioned, libraries are not allowed"
   ]
  },
  {
   "cell_type": "code",
   "execution_count": 8,
   "metadata": {},
   "outputs": [],
   "source": [
    "# Read the data from students' side\n",
    "remove(list = ls())\n",
    "train <- read.csv(\"RegressionTrain.csv\")\n",
    "test <- read.csv(\"RegressionTest.csv\")"
   ]
  },
  {
   "cell_type": "code",
   "execution_count": null,
   "metadata": {},
   "outputs": [],
   "source": [
    "# PLEASE DO NOT ALTER THIS CODE BLOCK\n",
    "# Please skip (don't run) this if you are a student\n",
    "# Read in the data from marking tutors' side (ensure no cheating!)\n",
    "remove(list = ls())\n",
    "train <- read.csv(\"../data/RegressionTrain.csv\")\n",
    "test <- read.csv(\"../data/RegressionTest.csv\")\n",
    "label <- read.csv(\"../data/RegressionTestLabel.csv\")"
   ]
  },
  {
   "cell_type": "markdown",
   "metadata": {
    "colab_type": "text",
    "id": "0epC4XmxOWJe"
   },
   "source": [
    "<h2> Question 1 (5 Marks) </h2>\n",
    "\n",
    "Fit a $\\textbf{multiple linear model}$ to the fuel efficiency data using the ``train`` dataset. By checking the summary information, which predictors/variables do you think are possibly associated with fuel efficiency (use ``0.05`` significant level), and why? Which ``three predictors/variables`` appear to be the strongest predictors of fuel efficiency, and why? \n",
    "\n",
    "$\\textbf{Note}$: You don't have to worry about categorical variables here since R can deal with this automatically, focus your efforts on interpretation. Additionally, when explaining why features are strongly associated with the target, please refrain giving one or two sentences answers, these answers are not descriptive enough and will result in deduction of marks. Finally, please name the model here ``lm.fit`` for future marking purposes."
   ]
  },
  {
   "cell_type": "code",
   "execution_count": 9,
   "metadata": {},
   "outputs": [
    {
     "data": {
      "text/plain": [
       "\n",
       "Call:\n",
       "lm(formula = Comb.FE ~ ., data = train)\n",
       "\n",
       "Residuals:\n",
       "    Min      1Q  Median      3Q     Max \n",
       "-4.0256 -0.9978 -0.0644  0.7006 11.3941 \n",
       "\n",
       "Coefficients:\n",
       "                           Estimate Std. Error t value Pr(>|t|)    \n",
       "(Intercept)              -1.783e+02  8.587e+01  -2.076  0.03809 *  \n",
       "Model.Year                9.640e-02  4.255e-02   2.266  0.02363 *  \n",
       "Eng.Displacement         -1.364e+00  1.025e-01 -13.306  < 2e-16 ***\n",
       "No.Cylinders              4.644e-02  6.769e-02   0.686  0.49282    \n",
       "AspirationOT             -3.452e-01  6.352e-01  -0.543  0.58693    \n",
       "AspirationSC             -9.197e-01  2.282e-01  -4.031 5.85e-05 ***\n",
       "AspirationTC             -1.303e+00  1.288e-01 -10.111  < 2e-16 ***\n",
       "AspirationTS             -1.149e+00  4.945e-01  -2.323  0.02035 *  \n",
       "No.Gears                 -1.307e-01  2.995e-02  -4.364 1.37e-05 ***\n",
       "Lockup.Torque.ConverterY -8.243e-01  1.117e-01  -7.377 2.78e-13 ***\n",
       "Drive.SysA               -8.339e-02  1.521e-01  -0.548  0.58356    \n",
       "Drive.SysF                1.441e+00  1.711e-01   8.419  < 2e-16 ***\n",
       "Drive.SysP               -2.400e-01  2.980e-01  -0.805  0.42087    \n",
       "Drive.SysR                4.328e-02  1.476e-01   0.293  0.76938    \n",
       "Max.Ethanol              -7.076e-03  2.967e-03  -2.385  0.01722 *  \n",
       "Fuel.TypeGM               5.706e-01  4.173e-01   1.368  0.17169    \n",
       "Fuel.TypeGP               4.093e-01  1.369e-01   2.990  0.00284 ** \n",
       "Fuel.TypeGPR              1.363e-01  1.401e-01   0.973  0.33096    \n",
       "---\n",
       "Signif. codes:  0 '***' 0.001 '**' 0.01 '*' 0.05 '.' 0.1 ' ' 1\n",
       "\n",
       "Residual standard error: 1.598 on 1382 degrees of freedom\n",
       "Multiple R-squared:  0.6628,\tAdjusted R-squared:  0.6586 \n",
       "F-statistic: 159.8 on 17 and 1382 DF,  p-value: < 2.2e-16\n"
      ]
     },
     "metadata": {},
     "output_type": "display_data"
    }
   ],
   "source": [
    "# mutlivariate linear regression model \n",
    "lm.fit <- lm(Comb.FE ~ .,data=train)\n",
    "summary(lm.fit)"
   ]
  },
  {
   "cell_type": "code",
   "execution_count": 10,
   "metadata": {},
   "outputs": [
    {
     "ename": "ERROR",
     "evalue": "Error in TopPredictor(lm.fit): could not find function \"TopPredictor\"\n",
     "output_type": "error",
     "traceback": [
      "Error in TopPredictor(lm.fit): could not find function \"TopPredictor\"\nTraceback:\n"
     ]
    }
   ],
   "source": [
    "TopPredictor.lm <- function(model){\n",
    "    # Finding the best predictors/variables for fuel efficiency\n",
    "    Predictor <- coef(summary(model))\n",
    "    # Filtering only predictors/variables with significance of 0.05\n",
    "    Best.Pred <- Predictor[Predictor[,\"Pr(>|t|)\"]<0.05,]\n",
    "    Predictor <- sort(Best.Pred[,4],decreasing=FALSE)\n",
    "    print(Predictor[1])\n",
    "    print(Predictor[2])\n",
    "    print(Predictor[3])\n",
    "    }\n",
    "\n",
    "TopPredictor(lm.fit)"
   ]
  },
  {
   "cell_type": "markdown",
   "metadata": {},
   "source": [
    "__<span style=\"color:blue\">SOLUTION 1:</span>__ \n",
    "\n",
    "__<span style=\"color:blue\">Predictor/variables (significance level of 0.05 or less) that have possibly associated with fuel efficiency are:- </span>__\n",
    "\n",
    "1. Model.Year           &nbsp;        ``Significance: 0.05``\n",
    "2. Eng.Displacement     &nbsp;        ``Significance: 0.0``\n",
    "3. AspirationSC         &nbsp;        ``Significance: 0.0``\n",
    "4. AspirationTC         &nbsp;        ``Significance: 0.0``\n",
    "5. AspirationTS         &nbsp;        ``Significance: 0.0``\n",
    "6. No.Gears             &nbsp;        ``Significance: 0.0``\n",
    "7. Lockup.Torque.ConverterY   &nbsp;  ``Significance: 0.0``\n",
    "8. Drive.SysF                &nbsp;   ``Significance: 0.0``\n",
    "9. Max.Ethanol                &nbsp;  ``Significance: 0.05``\n",
    "10. Fuel.TypeGP               &nbsp;  ``Significance: 0.0``\n",
    "\n",
    "Above variables have $\\textbf{Pr(>|t|)}$ less than or equal to 0.05 when applied Linear model function. \n",
    "\n",
    "__<span style=\"color:blue\">Predictor/variables with strongest associated with fuel efficiency are:- </span>__\n",
    "\n",
    "1. Eng.Displacement :    &nbsp;        $\\textbf{Pr(>|t|)} ---->$ less than 2e-16\n",
    "2. AspirationSC     :    &nbsp;        $\\textbf{Pr(>|t|)} ------>$ less than 2e-16\n",
    "3. Drive.SysF       :    &nbsp;   $\\textbf{Pr(>|t|)} ------->$ less than 2e-16\n",
    "\n",
    "These are the most significant and have the least $\\textbf{Pr(>|t|)}$ value when we apply linear modelling."
   ]
  },
  {
   "cell_type": "markdown",
   "metadata": {
    "colab_type": "text",
    "id": "kEUu5eFpOWJi"
   },
   "source": [
    "<h2> Question 2 (5 Marks) </h2>\n",
    "\n",
    "Describe/discuss the effect that the year of manufacture ``(Model.Year)`` variable appears to have on the mean ``fuel efficiency``. Additionally, describe/discuss the effect that the number of gears ``(No.Gears)`` variable has on the mean ``fuel efficiency`` of the car.\n",
    "\n",
    "$\\textbf{Note}$: This asks for your descriptions, please refrain from using one or two lines to describe/discuss the effect. Keep answers to be 4 decimal places"
   ]
  },
  {
   "cell_type": "markdown",
   "metadata": {
    "colab_type": "text",
    "id": "0Ybm3VKDOWJe"
   },
   "source": [
    "__<span style=\"color:blue\">SOLUTION 2:</span>__ \n",
    "\n",
    "__<span style=\"color:blue\">Model.Year versus mean fuel efficiency</span>__\n",
    "\n",
    "From below graph we can conclude that model year don't have any significant effect on fuel efficiency\n",
    "\n",
    "__<span style=\"color:blue\">Numbers of Gears versus mean fuel efficiency</span>__\n",
    "\n",
    "From below graph we can conclude that Numbers of Gears does have significant effect on fuel efficiency. As No. of gears increases Fuel efficiency of mean car decreases significantly. Although not perfect an linear equation can be generated that might show graphs behaviour  "
   ]
  },
  {
   "cell_type": "code",
   "execution_count": 11,
   "metadata": {},
   "outputs": [
    {
     "data": {
      "image/png": "[encoded data removed]",
      "text/plain": [
       "Plot with title \"Model.Year (Year) versus mean fuel efficiency (x)\""
      ]
     },
     "metadata": {},
     "output_type": "display_data"
    },
    {
     "data": {
      "image/png": "[encoded data removed]",
      "text/plain": [
       "Plot with title \"Numbers of Gears (No.Gears) versus mean fuel efficiency (x)\""
      ]
     },
     "metadata": {},
     "output_type": "display_data"
    }
   ],
   "source": [
    "# grouping and finding the mean of data\n",
    "df1 <- aggregate(x = train$Comb.FE,by=list(Year=train$Model.Year),FUN=mean)\n",
    "df2 <- aggregate(x = train$Comb.FE,by=list(No.Gears=train$No.Gears),FUN=mean)\n",
    "\n",
    "# Plotting graph\n",
    "plot(df1,col  = \"red\",main = \"Model.Year (Year) versus mean fuel efficiency (x)\")\n",
    "lines((df1))\n",
    "plot(df2,col  = \"red\",main = \"Numbers of Gears (No.Gears) versus mean fuel efficiency (x)\")\n",
    "lines((df2))"
   ]
  },
  {
   "cell_type": "markdown",
   "metadata": {
    "colab_type": "text",
    "id": "C6XyKtwfOWJj"
   },
   "source": [
    "<h2> Question 3 (5 Marks) </h2>\n",
    "\n",
    "Apply the stepwise selection procedure with the $\\textbf{BIC}$ penalty to prune out potentially less significant variables. Write down the final regression equation obtained after pruning, please keep the values of the parameter coefficients to 2 decimal places. Finally, also describe the pruned model.\n",
    "\n",
    "$\\textbf{Note}$: please don't change the default direction ``both`` in the step function, this is so that we can check your work easily. Additionally, please name this model ``sw.fit``"
   ]
  },
  {
   "cell_type": "markdown",
   "metadata": {
    "colab_type": "text",
    "id": "0Ybm3VKDOWJe"
   },
   "source": [
    "$\\textbf{YOUR ANSWER HERE}$"
   ]
  },
  {
   "cell_type": "code",
   "execution_count": 12,
   "metadata": {
    "scrolled": true
   },
   "outputs": [
    {
     "name": "stdout",
     "output_type": "stream",
     "text": [
      "Start:  AIC=1424.68\n",
      "Comb.FE ~ Model.Year + Eng.Displacement + No.Cylinders + Aspiration + \n",
      "    No.Gears + Lockup.Torque.Converter + Drive.Sys + Max.Ethanol + \n",
      "    Fuel.Type\n",
      "\n",
      "                          Df Sum of Sq    RSS    AIC\n",
      "- Fuel.Type                3     27.87 3556.7 1414.0\n",
      "- No.Cylinders             1      1.20 3530.0 1417.9\n",
      "- Model.Year               1     13.11 3541.9 1422.6\n",
      "- Max.Ethanol              1     14.52 3543.3 1423.2\n",
      "<none>                                 3528.8 1424.7\n",
      "- No.Gears                 1     48.63 3577.4 1436.6\n",
      "- Lockup.Torque.Converter  1    138.97 3667.8 1471.5\n",
      "- Aspiration               4    267.94 3796.7 1498.2\n",
      "- Drive.Sys                4    393.01 3921.8 1543.5\n",
      "- Eng.Displacement         1    452.08 3980.9 1586.2\n",
      "\n",
      "Step:  AIC=1413.96\n",
      "Comb.FE ~ Model.Year + Eng.Displacement + No.Cylinders + Aspiration + \n",
      "    No.Gears + Lockup.Torque.Converter + Drive.Sys + Max.Ethanol\n",
      "\n",
      "                          Df Sum of Sq    RSS    AIC\n",
      "- No.Cylinders             1      1.68 3558.4 1407.4\n",
      "- Model.Year               1     14.18 3570.9 1412.3\n",
      "<none>                                 3556.7 1414.0\n",
      "- Max.Ethanol              1     18.68 3575.4 1414.0\n",
      "- No.Gears                 1     42.25 3598.9 1423.2\n",
      "+ Fuel.Type                3     27.87 3528.8 1424.7\n",
      "- Lockup.Torque.Converter  1    144.88 3701.6 1462.6\n",
      "- Aspiration               4    266.66 3823.3 1486.2\n",
      "- Drive.Sys                4    384.97 3941.6 1528.9\n",
      "- Eng.Displacement         1    449.79 4006.5 1573.4\n",
      "\n",
      "Step:  AIC=1407.38\n",
      "Comb.FE ~ Model.Year + Eng.Displacement + Aspiration + No.Gears + \n",
      "    Lockup.Torque.Converter + Drive.Sys + Max.Ethanol\n",
      "\n",
      "                          Df Sum of Sq    RSS    AIC\n",
      "- Model.Year               1     13.78 3572.1 1405.5\n",
      "<none>                                 3558.4 1407.4\n",
      "- Max.Ethanol              1     18.74 3577.1 1407.5\n",
      "+ No.Cylinders             1      1.68 3556.7 1414.0\n",
      "- No.Gears                 1     43.44 3601.8 1417.1\n",
      "+ Fuel.Type                3     28.35 3530.0 1417.9\n",
      "- Lockup.Torque.Converter  1    146.78 3705.1 1456.7\n",
      "- Aspiration               4    295.13 3853.5 1490.0\n",
      "- Drive.Sys                4    387.17 3945.5 1523.0\n",
      "- Eng.Displacement         1   2217.81 5776.2 2078.3\n",
      "\n",
      "Step:  AIC=1405.54\n",
      "Comb.FE ~ Eng.Displacement + Aspiration + No.Gears + Lockup.Torque.Converter + \n",
      "    Drive.Sys + Max.Ethanol\n",
      "\n",
      "                          Df Sum of Sq    RSS    AIC\n",
      "<none>                                 3572.1 1405.5\n",
      "- Max.Ethanol              1     20.82 3593.0 1406.4\n",
      "+ Model.Year               1     13.78 3558.4 1407.4\n",
      "+ No.Cylinders             1      1.28 3570.9 1412.3\n",
      "- No.Gears                 1     38.98 3611.1 1413.5\n",
      "+ Fuel.Type                3     29.35 3542.8 1415.7\n",
      "- Lockup.Torque.Converter  1    144.44 3716.6 1453.8\n",
      "- Aspiration               4    298.65 3870.8 1489.0\n",
      "- Drive.Sys                4    382.97 3955.1 1519.2\n",
      "- Eng.Displacement         1   2228.54 5800.7 2077.0\n"
     ]
    },
    {
     "data": {
      "text/plain": [
       "\n",
       "Call:\n",
       "lm(formula = Comb.FE ~ Eng.Displacement + Aspiration + No.Gears + \n",
       "    Lockup.Torque.Converter + Drive.Sys + Max.Ethanol, data = train)\n",
       "\n",
       "Residuals:\n",
       "    Min      1Q  Median      3Q     Max \n",
       "-4.0743 -0.9760 -0.0349  0.6566 11.3971 \n",
       "\n",
       "Coefficients:\n",
       "                          Estimate Std. Error t value Pr(>|t|)    \n",
       "(Intercept)              16.196874   0.282901  57.253  < 2e-16 ***\n",
       "Eng.Displacement         -1.277173   0.043418 -29.416  < 2e-16 ***\n",
       "AspirationOT             -0.100081   0.626276  -0.160 0.873060    \n",
       "AspirationSC             -0.699137   0.213768  -3.271 0.001100 ** \n",
       "AspirationTC             -1.144227   0.107302 -10.664  < 2e-16 ***\n",
       "AspirationTS             -1.122104   0.481471  -2.331 0.019919 *  \n",
       "No.Gears                 -0.113537   0.029183  -3.891 0.000105 ***\n",
       "Lockup.Torque.ConverterY -0.825285   0.110202  -7.489 1.23e-13 ***\n",
       "Drive.SysA                0.035013   0.145617   0.240 0.810020    \n",
       "Drive.SysF                1.480191   0.166847   8.872  < 2e-16 ***\n",
       "Drive.SysP               -0.323201   0.292617  -1.105 0.269560    \n",
       "Drive.SysR                0.093779   0.146329   0.641 0.521710    \n",
       "Max.Ethanol              -0.008344   0.002934  -2.843 0.004528 ** \n",
       "---\n",
       "Signif. codes:  0 '***' 0.001 '**' 0.01 '*' 0.05 '.' 0.1 ' ' 1\n",
       "\n",
       "Residual standard error: 1.605 on 1387 degrees of freedom\n",
       "Multiple R-squared:  0.6586,\tAdjusted R-squared:  0.6557 \n",
       "F-statistic:   223 on 12 and 1387 DF,  p-value: < 2.2e-16\n"
      ]
     },
     "metadata": {},
     "output_type": "display_data"
    }
   ],
   "source": [
    "# mutlivariate linear regression model with pruning done using BIC penalty\n",
    "sw.fit <- step(lm.fit,k = log(nrow(train)), direction=\"both\")\n",
    "summary(sw.fit)"
   ]
  },
  {
   "cell_type": "markdown",
   "metadata": {},
   "source": [
    "__<span style=\"color:blue\">SOLUTION 3:</span>__ \n",
    "\n",
    "BIC penalty can help Prune variables which doesn't impact fuel efficency significantly. Model add or remove variables to give the equation with minimum AIC.\n",
    "\n",
    "<span style=\"color:blue\">Step 1:</span> ``AIC=1424.68`` \n",
    "\n",
    "Comb.FE ~ Model.Year + Eng.Displacement + No.Cylinders + Aspiration + No.Gears + Lockup.Torque.Converter + Drive.Sys + Max.Ethanol + Fuel.Type\n",
    "\n",
    "<span style=\"color:blue\">Step 2:</span> ``AIC=1413.96`` \n",
    "\n",
    "Comb.FE ~ Model.Year + Eng.Displacement + No.Cylinders + Aspiration + No.Gears + Lockup.Torque.Converter + Drive.Sys + Max.Ethanol\n",
    "\n",
    "<span style=\"color:blue\">Step 3:</span> ``AIC=1407.38`` \n",
    "\n",
    "Comb.FE ~ Model.Year + Eng.Displacement + Aspiration + No.Gears + Lockup.Torque.Converter + Drive.Sys + Max.Ethanol \n",
    "\n",
    "<span style=\"color:blue\">Step 4:</span> ``AIC=1405.54`` \n",
    "\n",
    "Comb.FE ~ Eng.Displacement + Aspiration + No.Gears + Lockup.Torque.Converter + Drive.Sys + Max.Ethanol\n",
    "\n",
    "\n",
    "<span style=\"color:blue\">FORMULA:</span>\n",
    "<b>Comb.FE = 16.2 - 1.28*Eng.displacement - 0.1*AspirationOT - 0.7*AspirationSC -1.14*AspiratioTC - 1.12*AspirationTS - 0.11*No.Gears -0.83*Lockup.Torque.Converter + 0.04*Drive.SysA + 1.48*Drive.SysF -0.32*Drive.SysP + 0.09* Drive.SysR - 0.01*Max.Ethanol<b>"
   ]
  },
  {
   "cell_type": "markdown",
   "metadata": {
    "colab_type": "text",
    "id": "izq8RU0lOWJn"
   },
   "source": [
    "<h2> Question 4 (5 Marks) </h2>\n",
    "\n",
    "Say we are going to buy a new car and we want to improve the fuel efficiency of our new car, what does this ``BIC model`` suggest we should do? Provide a detailed answers of at least ``150 words``."
   ]
  },
  {
   "cell_type": "markdown",
   "metadata": {
    "colab_type": "text",
    "id": "0Ybm3VKDOWJe"
   },
   "source": [
    "__<span style=\"color:blue\">SOLUTION 4:</span>__ \n",
    "\n",
    "From the data formula mentioned above we get some sort of picture about an mathermatical model than can be used to figure out dependence of fuel efficiency on independent variable such as Engine displacement, Aspiration, Number of Gears ,Lockup Torque Converter , Drive System and Maximum Ethanol. These independent varaibles are selected by BIC model because there combination leads to lowest Akaike information criterion, i.e. AIC . Decreasing the values with negative coefficent such as Eng.displacement (coeff = -1.28) and increasing values with positive coefficent such as Drive.SysF (coeff = 1.48) is necceasry to improve the Fuel efficiency of our new car"
   ]
  },
  {
   "cell_type": "markdown",
   "metadata": {
    "colab_type": "text",
    "id": "bhFKnrlcOWJo"
   },
   "source": [
    "<h2> Question 5 (5 Marks)</h2>\n",
    "\n",
    "Imagine that you are looking for a new car to buy to replace your existing car. Use the $\\textbf{test}$ dataset to inspect the first car fuel efficiency and see whether it is a good fit for you or not.\n",
    "    \n",
    "    (a) Use your BIC model to predict the mean fuel efficiency for this new car. Provide a 95% confidence interval for this prediction. [2 mark]\n",
    "    (b) Following the previous estimation, given that the current car that you own has a mean fuel efficiency of 9.5 km/l (measured over the life time of your ownership), does your model (BIC) suggest that the new car will have better fuel efficiency than your current car? Why? [3 marks]"
   ]
  },
  {
   "cell_type": "code",
   "execution_count": 13,
   "metadata": {},
   "outputs": [
    {
     "name": "stdout",
     "output_type": "stream",
     "text": [
      "     fit      lwr      upr \n",
      "9.287257 9.052956 9.521557 \n"
     ]
    }
   ],
   "source": [
    "# fuel efficiency prediction with 95% confidence interval\n",
    "test$Comb.FE = predict(sw.fit,test,level=0.95, interval='confidence')\n",
    "print(test$Comb.FE[1,])"
   ]
  },
  {
   "cell_type": "markdown",
   "metadata": {
    "colab_type": "text",
    "id": "0Ybm3VKDOWJe"
   },
   "source": [
    "__<span style=\"color:blue\">SOLUTION 5:</span>__ \n",
    "\n",
    "1. Using BIC (95% confidence interval) car's mean F.E. value is 9.287 , lower F.E. value is 9.053 and upper F.E. value 9.521\n",
    "\n",
    "2. As the value is very close to mean fuel efficiency of 9.5 km/l therefore it's not wise to buy current car"
   ]
  },
  {
   "cell_type": "markdown",
   "metadata": {},
   "source": [
    "<h2> Question 6 (Libraries are allowed) (25 Marks) </h2>\n",
    "\n",
    "As a Data Scientist, one of the key tasks is to build models $\\textbf{most appropriate/closest}$ to the truth; thus, modelling will not be limitted to these steps in the assignment. To simulate for a realistic modelling process, this question will be in the form of a competition among students to find out who has the best model.\n",
    "\n",
    "Thus, You will be graded by the performance of your model compared to your classmates', the better your model, the higher your score. Additionally, you need to write a short paragraph describing/documenting your thought process in this model building process ``(300 words)``. Note that this is to explain to us why you build your current model so that we can verify that you understand the model you build and not just copy from other people.\n",
    "\n",
    "$\\textbf{Note}$ Please make sure that we can install the libraries that you use in this part, the code structure can be:\n",
    "\n",
    "``install.packages(\"some package\", repos='http://cran.us.r-project.org')``\n",
    "\n",
    "``library(\"some package\")``\n",
    "\n",
    "Remember that if we cannot run your code, we will have to give you 0 marks, our suggestion is for you to use the standard ``R version 3.6.1``\n",
    "\n",
    "You also need to name your final model ``fin.mod`` so we can run a check to find out your performance. A good test for your understanding would be to set the previous $\\textbf{BIC model}$ to be the final model to check if your code works Appropriately.\n",
    "\n",
    "$20$ Marks for the model performance in the competition\n",
    "\n",
    "$5$ Marks for logically writing down the thought process in building the final model\n",
    "\n",
    "This is the [link](https://www.kaggle.com/t/0a3c0fc91b074816a6315bb4e9b42602) to the competition"
   ]
  },
  {
   "cell_type": "markdown",
   "metadata": {
    "colab_type": "text",
    "id": "0Ybm3VKDOWJe"
   },
   "source": [
    "__<span style=\"color:blue\">SOLUTION 6:</span>__ \n",
    "\n",
    "After pruning the data using BIC criterion, the R square value has observed to be 0.65. Hence, to improve the accuracy (RMSE score) first we need to \n",
    "1. transform the independent variables \n",
    "2. Find Optimum Regression model.\n",
    "\n",
    "ggpairs was used to observe the trend of fuel efficiency w.r.t other independent variables. To make an optimum final regression equation an combination of logs and polynomials of independent variables were used.\n",
    "After carefully observing the trend of fuel efficiency w.r.t other independent variables, \n",
    "\n",
    "Further randomForest modelling were used as final model as in comparision with other models tried, RandomForest resulted in better score when checked for output on kaggle. After that hyper parameter optimization were neccesary to extract best RMSE score.\n",
    "\n",
    "After multiple experiments combination of parameters were found which result in best score so far."
   ]
  },
  {
   "cell_type": "code",
   "execution_count": null,
   "metadata": {
    "scrolled": false
   },
   "outputs": [],
   "source": [
    "# Library used\n",
    "# install.packages(\"randomForestSRC\")\n",
    "# install.packages(\"GGally\")\n",
    "options(warn=0)\n",
    "library(randomForestSRC)\n",
    "library(GGally)\n",
    "\n",
    "# An correlation graph to make sense of data variables as well as any relation that can effect train-label\n",
    "data(train, package = \"reshape\")\n",
    "ggpairs(\n",
    "  train[, c(2, 3, 4, 5, 8, 10)],\n",
    "  upper = list(continuous = \"density\", combo = \"box_no_facet\"),\n",
    "  lower = list(continuous = \"points\", combo = \"dot_no_facet\")\n",
    ")\n",
    "\n",
    "# Creating extra variables that might represent fuel efficiency \n",
    "train$log.Eng.Displacement = log(train$Eng.Displacement)\n",
    "train$log.Gear = log(train$No.Gears)\n",
    "train$log.Max.Ethanol = log(train$Max.Ethanol)\n",
    "train$log.No.Cylinders = log(train$No.Cylinders)\n",
    "\n",
    "train$SQRT.Eng = sqrt(train$Eng.Displacement)\n",
    "train$SQRT.Gear = sqrt(train$No.Gears)\n",
    "train$SQRT.Max.Ethanol = sqrt(train$Max.Ethanol)\n",
    "train$SQRT.No.Cylinders = sqrt(train$No.Cylinders)\n",
    "\n",
    "train$Sq.Eng = (train$Eng.Displacement)^2\n",
    "train$Sq.Gear = (train$No.Gears)^2\n",
    "train$Sq.Max.Ethanol = (train$Max.Ethanol)^2\n",
    "train$Sq.No.Cylinders = (train$No.Cylinders)^2\n",
    "\n",
    "train$log2.Ethanol <- log(log(log(train$Max.Ethanol)))\n",
    "train$Combination <- train$log.Eng.Displacement * train$Sq.Max.Ethanol *train$Sq.Gear *train$Sq.No.Cylinders\n",
    "\n",
    "# For predicting the test label, new variables were introduced in test data\n",
    "test$log.Eng.Displacement = log(test$Eng.Displacement)\n",
    "test$log.Gear = log(test$No.Gears)\n",
    "test$log.Max.Ethanol = log(test$Max.Ethanol)\n",
    "test$log.No.Cylinders = log(test$No.Cylinders)\n",
    "\n",
    "test$SQRT.Eng = sqrt(test$Eng.Displacement)\n",
    "test$SQRT.Gear = sqrt(test$No.Gears)\n",
    "test$SQRT.Max.Ethanol = sqrt(test$Max.Ethanol)\n",
    "test$SQRT.No.Cylinders = sqrt(test$No.Cylinders)\n",
    "\n",
    "test$Sq.Eng = (test$Eng.Displacement)^2\n",
    "test$Sq.Gear = (test$No.Gears)^2\n",
    "test$Sq.Max.Ethanol = (test$Max.Ethanol)^2\n",
    "test$Sq.No.Cylinders = (test$No.Cylinders)^2\n",
    "\n",
    "test$log2.Ethanol <- log(log(log(test$Max.Ethanol)))\n",
    "test$Combination <- test$log.Eng.Displacement * test$Sq.Max.Ethanol *test$Sq.Gear *test$Sq.No.Cylinders"
   ]
  },
  {
   "cell_type": "code",
   "execution_count": null,
   "metadata": {},
   "outputs": [],
   "source": [
    "# Use this function to check the performance of your model\n",
    "rmse <- function(pred.label, truth.label){\n",
    "    # Lower is better\n",
    "    return(sqrt(mean((pred.label - truth.label)^2)))\n",
    "}"
   ]
  },
  {
   "cell_type": "code",
   "execution_count": null,
   "metadata": {},
   "outputs": [],
   "source": [
    "# Build your final model here, use additional coding block if you want to\n",
    "fin.mod <- NULL\n",
    "# Creating an model with tuned variables using experiments\n",
    "fin.mod <- rfsrc(Comb.FE ~ Eng.Displacement + Eng.Displacement * log.Eng.Displacement + Combination + log2.Ethanol + Aspiration + No.Gears * \n",
    "                   Lockup.Torque.Converter + Drive.Sys + Max.Ethanol + Fuel.Type + No.Cylinders +\n",
    "                   log.Eng.Displacement * log.Gear * log.Max.Ethanol * log.No.Cylinders + SQRT.Eng * SQRT.Gear *\n",
    "                   SQRT.Max.Ethanol * SQRT.No.Cylinders + Sq.Eng * Sq.Gear * Sq.Max.Ethanol * Sq.No.Cylinders,\n",
    "    data = train,importance=TRUE,proximity=TRUE,mtry=8,nodesize=2,ntree=950,replace=TRUE)"
   ]
  },
  {
   "cell_type": "code",
   "execution_count": null,
   "metadata": {},
   "outputs": [],
   "source": [
    "# If you are using any packages that perform the prediction differently, please change the value of this variable\n",
    "pred.label <- predict(fin.mod, test)\n",
    "predict.label <- pred.label$predicted"
   ]
  },
  {
   "cell_type": "code",
   "execution_count": null,
   "metadata": {},
   "outputs": [],
   "source": [
    "# PLEASE DO NOT ALTER THIS CODE BLOCK\n",
    "# put this label in a csv file to commit to the Leaderboard\n",
    "write.csv(data.frame(\"RowIndex\" = seq(1, length(predict.label)), \"Prediction\" = predict.label),  \n",
    "          \"RegressionPredictLabel.csv\", row.names = F)"
   ]
  },
  {
   "cell_type": "code",
   "execution_count": null,
   "metadata": {},
   "outputs": [],
   "source": [
    "## PLEASE DO NOT ALTER THIS CODE BLOCK\n",
    "## Please skip (don't run) this if you are a student\n",
    "## For teaching team use only\n",
    "RMSE.fin <- rmse(pred.label, label$Label)\n",
    "cat(paste(\"RMSE is\", RMSE.fin))"
   ]
  },
  {
   "cell_type": "markdown",
   "metadata": {
    "colab_type": "text",
    "id": "E-lggSuURze1"
   },
   "source": [
    "<h1>Part 2: Classification (50 Marks)</h1>"
   ]
  },
  {
   "cell_type": "markdown",
   "metadata": {},
   "source": [
    "In this part, you are going to work with \"Census Income Dataset\" which was originally donated by Ronny Kohavi and Barry Becker to UCI (University of California, Irvine) in 1996. This is a trimmed dataset used for machine learning students to study classification. \n",
    "\n",
    "This dataset has collected over 40,000 records (we excluded some data in our version) regarding personal yearly income with 12 attributes (predictors). The attributes comprise many aspects of a person that may contribute to the yearly income. You can use summary() function to obtain the attributes information. Your prediction task is to determine whether a person makes over 50K a year.\n",
    "\n",
    "We have splitted the dataset into a trainning and a testing set. There are 27245 records in the training set while 13631 records in the testing set. Besides the 12 predictors, there is one more column named Salary indicating whether a person's yearly income is over 50K. The label information is a seperated file for the testing set and will be used by us to asess your performance later. Note the label TRUE means an individual's yearly salary exceeds 50K while FALSE means an individual's yearly salary is under 50K.\n",
    "\n",
    "$\\textbf{Note:}$ If not explicitly mentioned, libraries are not allowed"
   ]
  },
  {
   "cell_type": "code",
   "execution_count": 1,
   "metadata": {},
   "outputs": [],
   "source": [
    "# Read the data from students' side\n",
    "remove(list = ls())\n",
    "train <- read.csv(\"ClassTrain.csv\")\n",
    "test  <- read.csv(\"ClassTest.csv\")"
   ]
  },
  {
   "cell_type": "code",
   "execution_count": null,
   "metadata": {},
   "outputs": [],
   "source": [
    "## PLEASE DO NOT ALTER THIS CODE BLOCK\n",
    "# Please skip (don't run) this if you are a student\n",
    "# Read in the data from marking tutors' side (ensure no cheating!)\n",
    "remove(list = ls())\n",
    "train <- read.csv(\"../data/ClassTrain.csv\")\n",
    "test  <- read.csv(\"../data/ClassTest.csv\")\n",
    "label <- read.csv(\"../data/ClassTestLabel.csv\")"
   ]
  },
  {
   "cell_type": "markdown",
   "metadata": {
    "colab_type": "text",
    "id": "0epC4XmxOWJe"
   },
   "source": [
    "<h2> Question 1 (10 Marks) </h2>\n",
    "\n",
    "Fit a $\\textbf{Generalized Linear Model (Logistic Regression)}$ to predict level of income (salary) $\\left(\\;\\geq 50\\;\\text{K, or } <50\\;\\text{K}\\;\\right)$ using the ``train`` dataset. Using the results of fitting this model, which predictors do you think are possibly associated with the level of Salary (use ``0.05`` significant level), and why? Which ``three variables`` appear to be the strongest predictors of salary, and why? \n",
    "\n",
    "Furthermore, you can see that you have much more predictors in this part than in the ``linear model`` from Part 1 $\\Rightarrow$ manually checking information is counterproductive. Thus, please write a function to automate these processes $\\textbf{(1)}$ selecting important feature against 0.05 threshold and $\\textbf{(2)}$ Selecting three most important features.\n",
    "\n",
    "$\\textbf{Note}$: You don't have to worry about categorical variables here since R can deal with this automatically, focus your efforts on interpretation. Additionally, when explaining why features are strongly associated with the target, please refrain from giving one or two sentences answers, these answers are not descriptive and will result in a deduction of marks. Finally, please name the model here ``glm.fit`` and have the parameter in the model set to ``family = binomial``."
   ]
  },
  {
   "cell_type": "markdown",
   "metadata": {
    "colab_type": "text",
    "id": "0Ybm3VKDOWJe"
   },
   "source": [
    "__<span style=\"color:blue\">SOLUTION 1:</span>__ \n",
    "\n",
    "__<span style=\"color:blue\">Predictor/variables that have possibly associated with Salary are:- </span>__\n",
    "\n",
    "Age, WorkClass, FinalWeight, Education, MaritalStatus, Occupation, Relationship, Gender, CapitalGain, CapitalLoss, HoursWork\n",
    "\n",
    "\n",
    "__<span style=\"color:blue\">Predictor/variables with strongest associated with fuel efficiency are:- </span>__\n",
    "\n",
    "1. CapitalGain\n",
    "2. HoursWork\n",
    "3. CapitalLoss\n",
    "\n",
    "These are the most significant and have the least $\\textbf{Pr(>|z|)}$ value when we apply Generalized linear modelling."
   ]
  },
  {
   "cell_type": "code",
   "execution_count": 2,
   "metadata": {
    "scrolled": false
   },
   "outputs": [
    {
     "name": "stderr",
     "output_type": "stream",
     "text": [
      "Warning message:\n",
      "\"glm.fit: fitted probabilities numerically 0 or 1 occurred\""
     ]
    },
    {
     "data": {
      "text/plain": [
       "\n",
       "Call:\n",
       "glm(formula = Salary ~ ., family = binomial, data = train)\n",
       "\n",
       "Deviance Residuals: \n",
       "    Min       1Q   Median       3Q      Max  \n",
       "-5.1013  -0.5296  -0.1926   0.0276   3.4349  \n",
       "\n",
       "Coefficients:\n",
       "                                     Estimate Std. Error z value Pr(>|z|)    \n",
       "(Intercept)                        -7.614e+00  4.525e-01 -16.826  < 2e-16 ***\n",
       "Age                                 2.626e-02  1.779e-03  14.762  < 2e-16 ***\n",
       "WorkClassLocal-gov                 -7.214e-01  1.168e-01  -6.179 6.46e-10 ***\n",
       "WorkClassPrivate                   -4.734e-01  9.693e-02  -4.884 1.04e-06 ***\n",
       "WorkClassSelf-emp-inc              -2.974e-01  1.283e-01  -2.317 0.020506 *  \n",
       "WorkClassSelf-emp-not-inc          -9.994e-01  1.139e-01  -8.772  < 2e-16 ***\n",
       "WorkClassState-gov                 -7.757e-01  1.294e-01  -5.996 2.03e-09 ***\n",
       "FinalWeight                         7.896e-07  1.822e-07   4.334 1.46e-05 ***\n",
       "Education11th                       6.909e-02  2.201e-01   0.314 0.753589    \n",
       "Education12th                       5.005e-01  2.940e-01   1.702 0.088676 .  \n",
       "Education7th-8th                   -6.213e-01  2.592e-01  -2.397 0.016530 *  \n",
       "Education9th                       -2.472e-01  2.856e-01  -0.865 0.386877    \n",
       "EducationAssoc-acdm                 1.302e+00  1.843e-01   7.066 1.60e-12 ***\n",
       "EducationAssoc-voc                  1.263e+00  1.772e-01   7.127 1.02e-12 ***\n",
       "EducationBachelors                  1.931e+00  1.647e-01  11.724  < 2e-16 ***\n",
       "EducationDoctorate                  3.076e+00  2.380e-01  12.926  < 2e-16 ***\n",
       "EducationHS-grad                    7.790e-01  1.598e-01   4.874 1.09e-06 ***\n",
       "EducationMasters                    2.319e+00  1.767e-01  13.126  < 2e-16 ***\n",
       "EducationProf-school                2.874e+00  2.145e-01  13.396  < 2e-16 ***\n",
       "EducationSome-college               1.108e+00  1.622e-01   6.832 8.36e-12 ***\n",
       "MaritalStatusMarried-civ-spouse     2.345e+00  3.050e-01   7.687 1.51e-14 ***\n",
       "MaritalStatusMarried-spouse-absent -3.345e-02  2.697e-01  -0.124 0.901286    \n",
       "MaritalStatusNever-married         -4.513e-01  9.187e-02  -4.912 9.01e-07 ***\n",
       "MaritalStatusSeparated             -9.621e-02  1.733e-01  -0.555 0.578829    \n",
       "MaritalStatusWidowed                1.484e-01  1.656e-01   0.896 0.370163    \n",
       "OccupationCraft-repair              5.906e-02  8.379e-02   0.705 0.480884    \n",
       "OccupationExec-managerial           7.693e-01  8.089e-02   9.511  < 2e-16 ***\n",
       "OccupationFarming-fishing          -9.919e-01  1.457e-01  -6.805 1.01e-11 ***\n",
       "OccupationHandlers-cleaners        -7.641e-01  1.529e-01  -4.999 5.77e-07 ***\n",
       "OccupationMachine-op-inspct        -2.794e-01  1.073e-01  -2.605 0.009191 ** \n",
       "OccupationOther-service            -8.967e-01  1.300e-01  -6.900 5.22e-12 ***\n",
       "OccupationProf-specialty            4.654e-01  8.613e-02   5.403 6.54e-08 ***\n",
       "OccupationProtective-serv           6.229e-01  1.302e-01   4.784 1.72e-06 ***\n",
       "OccupationSales                     2.770e-01  8.625e-02   3.211 0.001322 ** \n",
       "OccupationTech-support              6.359e-01  1.159e-01   5.488 4.07e-08 ***\n",
       "OccupationTransport-moving         -1.027e-01  1.032e-01  -0.995 0.319541    \n",
       "RelationshipNot-in-family           6.652e-01  3.021e-01   2.202 0.027683 *  \n",
       "RelationshipOther-relative         -4.067e-01  2.918e-01  -1.394 0.163395    \n",
       "RelationshipOwn-child              -6.044e-01  2.943e-01  -2.054 0.039994 *  \n",
       "RelationshipUnmarried               5.707e-01  3.174e-01   1.798 0.072185 .  \n",
       "RelationshipWife                    1.332e+00  1.103e-01  12.071  < 2e-16 ***\n",
       "RaceAsian-Pac-Islander              9.879e-01  2.997e-01   3.296 0.000979 ***\n",
       "RaceBlack                           3.929e-01  2.427e-01   1.619 0.105400    \n",
       "RaceOther                           1.524e-01  4.397e-01   0.347 0.728862    \n",
       "RaceWhite                           5.396e-01  2.305e-01   2.340 0.019266 *  \n",
       "GenderMale                          8.679e-01  8.403e-02  10.328  < 2e-16 ***\n",
       "CapitalGain                         3.191e-04  1.107e-05  28.830  < 2e-16 ***\n",
       "CapitalLoss                         6.503e-04  3.999e-05  16.264  < 2e-16 ***\n",
       "HoursWork                           2.965e-02  1.774e-03  16.714  < 2e-16 ***\n",
       "---\n",
       "Signif. codes:  0 '***' 0.001 '**' 0.01 '*' 0.05 '.' 0.1 ' ' 1\n",
       "\n",
       "(Dispersion parameter for binomial family taken to be 1)\n",
       "\n",
       "    Null deviance: 31005  on 27244  degrees of freedom\n",
       "Residual deviance: 17976  on 27196  degrees of freedom\n",
       "AIC: 18074\n",
       "\n",
       "Number of Fisher Scoring iterations: 7\n"
      ]
     },
     "metadata": {},
     "output_type": "display_data"
    }
   ],
   "source": [
    "# Build your model, keep family = binomial, ignore the warnings, they are benign\\\n",
    "# mutlivariate generalized linear regression model\n",
    "glm.fit <- glm(Salary ~.,data = train, family = binomial)\n",
    "options(warn=0)\n",
    "summary(glm.fit)"
   ]
  },
  {
   "cell_type": "code",
   "execution_count": 3,
   "metadata": {},
   "outputs": [
    {
     "name": "stdout",
     "output_type": "stream",
     "text": [
      "  CapitalGain \n",
      "9.086632e-183 \n",
      "   HoursWork \n",
      "1.033315e-62 \n",
      " CapitalLoss \n",
      "1.791718e-59 \n"
     ]
    }
   ],
   "source": [
    "TopPredictor <- function(model){\n",
    "    # Finding the best predictors/variables for fuel efficiency\n",
    "    Predictor <- coef(summary(model))\n",
    "    # Filtering only predictors/variables with significance of 0.05\n",
    "    Best.Pred <- Predictor[Predictor[,\"Pr(>|z|)\"]<0.05,]\n",
    "    Predictor <- sort(Best.Pred[,4],decreasing=FALSE)\n",
    "    print(Predictor[1])\n",
    "    print(Predictor[3])\n",
    "    print(Predictor[4])\n",
    "    }\n",
    "\n",
    "TopPredictor(glm.fit)"
   ]
  },
  {
   "cell_type": "markdown",
   "metadata": {
    "colab_type": "text",
    "id": "kEUu5eFpOWJi"
   },
   "source": [
    "<h2> Question 2 (10 Marks) </h2>\n",
    "\n",
    "Firstly, please use the model created in the previous question to predict for the labels of the $\\textbf{train}$ data. Consequently, our objective is to compare this ``predict.label`` with the ``truth.label`` from the $\\textbf{test}$ data. However, as we don't know the $\\textbf{test}$ label, we have to estimate model performance using $\\textbf{train}$ data at this moment.\n",
    "\n",
    "Secondly, since our objective is to estimate the performance of this model in making correct predictions; thus, this question also asks you to explore different [performance metrics](https://en.wikipedia.org/wiki/Precision_and_recall) for classification models. The metrics we will use are $\\textbf{Accuracy, Precision, Recall, and F1 Score}$, please create a function to calculate these value and print them out properly using the given structure.\n",
    "\n",
    "Additionally, please also discuss the results of these values in the context of your model.\n",
    "\n",
    "$\\textbf{Note}$: This asks for your descriptions, please refrain from using one or two lines to describe/discuss the effect. Keep answers to be 4 decimal places"
   ]
  },
  {
   "cell_type": "markdown",
   "metadata": {
    "colab_type": "text",
    "id": "0Ybm3VKDOWJe"
   },
   "source": [
    "__<span style=\"color:blue\">SOLUTION 2:</span>__ \n",
    "\n",
    "Accuracy measured using the true postive and true negative values. After looking at the confusion matrix value, we find that the true negative values are indeed very high as compared to the true positive value. But still my accuracy is high. \n",
    "\n",
    "The value of precision, recall and f1-score the value is low in this confusion matrix. "
   ]
  },
  {
   "cell_type": "code",
   "execution_count": 4,
   "metadata": {},
   "outputs": [],
   "source": [
    "# Apply your previous model to perform prediction, keep type = \"response\"\n",
    "# Don't worry if you receive some warnings, they are benign\n",
    "predict.label <- predict(glm.fit,train,type = \"response\")\n",
    "\n",
    "# Truth label from train data\n",
    "truth.label <- train$Salary"
   ]
  },
  {
   "cell_type": "code",
   "execution_count": 5,
   "metadata": {},
   "outputs": [],
   "source": [
    "# Model statistics function\n",
    "mod.stat <- function(predict.label, truth.label){\n",
    "    # instantiate the variables\n",
    "    accuracy <- NULL\n",
    "    precision <- NULL\n",
    "    recall <- NULL\n",
    "    F1 <- NULL\n",
    "    \n",
    "    ##############################\n",
    "    #Your calculatation here\n",
    "\n",
    "    # Creating an confusion table. Predicted probabilities which are > 0.5 as true and vice-versa\n",
    "    predict.label <- table(truth.label, predict.label > 0.5)\n",
    "    \n",
    "    accuracy <- round(sum(diag(predict.label)) / sum(predict.label),4)\n",
    "    precision <- round(predict.label[2,2] / (predict.label[2,2] + predict.label[1,2]),4)\n",
    "    recall <- round(predict.label[2,2] / (predict.label[2,2] + predict.label[2,1]),4)\n",
    "    F1 <- 2 * round(((precision * recall) / (precision + recall)),4)\n",
    "    \n",
    "    \n",
    "    ##############################\n",
    "    \n",
    "    # Return a list of value\n",
    "    return(list(\"accuracy\" = accuracy, \"precision\" = precision, \"recall\" = recall, \"fscore\" = F1))\n",
    "}"
   ]
  },
  {
   "cell_type": "code",
   "execution_count": 6,
   "metadata": {},
   "outputs": [
    {
     "data": {
      "text/html": [
       "<dl>\n",
       "\t<dt>$accuracy</dt>\n",
       "\t\t<dd>0.8452</dd>\n",
       "\t<dt>$precision</dt>\n",
       "\t\t<dd>0.7395</dd>\n",
       "\t<dt>$recall</dt>\n",
       "\t\t<dd>0.6107</dd>\n",
       "\t<dt>$fscore</dt>\n",
       "\t\t<dd>0.669</dd>\n",
       "</dl>\n"
      ],
      "text/latex": [
       "\\begin{description}\n",
       "\\item[\\$accuracy] 0.8452\n",
       "\\item[\\$precision] 0.7395\n",
       "\\item[\\$recall] 0.6107\n",
       "\\item[\\$fscore] 0.669\n",
       "\\end{description}\n"
      ],
      "text/markdown": [
       "$accuracy\n",
       ":   0.8452\n",
       "$precision\n",
       ":   0.7395\n",
       "$recall\n",
       ":   0.6107\n",
       "$fscore\n",
       ":   0.669\n",
       "\n",
       "\n"
      ],
      "text/plain": [
       "$accuracy\n",
       "[1] 0.8452\n",
       "\n",
       "$precision\n",
       "[1] 0.7395\n",
       "\n",
       "$recall\n",
       "[1] 0.6107\n",
       "\n",
       "$fscore\n",
       "[1] 0.669\n"
      ]
     },
     "metadata": {},
     "output_type": "display_data"
    }
   ],
   "source": [
    "mod.stat(predict.label, truth.label)"
   ]
  },
  {
   "cell_type": "markdown",
   "metadata": {
    "colab_type": "text",
    "id": "C6XyKtwfOWJj"
   },
   "source": [
    "<h2> Question 3 (5 Marks) </h2>\n",
    "\n",
    "Use the stepwise selection procedure with the $\\textbf{BIC}$ penalty to prune out potentially unimportant variables. Checking the performance of your model using the created ``mod.stat()`` function, please give your discussion as how this model is compared with the ``glm.fit``(you can run the ``mod.stat()`` function for this as well if you want to).\n",
    "\n",
    "$\\textbf{Note}$: please don't change the default direction ``both`` in the step function, this is so that we can check your work easily. Additionally, please name this model ``sw.fit``. Don't worry about the warnings, they are benign"
   ]
  },
  {
   "cell_type": "markdown",
   "metadata": {
    "colab_type": "text",
    "id": "0Ybm3VKDOWJe"
   },
   "source": [
    "__<span style=\"color:blue\">SOLUTION 3:</span>__ \n",
    "\n",
    "From the data we can see that sw.fit has slightly higher precision in comparision to glm.fit. however sw.fit has lower F1 and recall score in comparision to glm.fit. sw.fit and glm.fit don't have any significat improvement over each other"
   ]
  },
  {
   "cell_type": "code",
   "execution_count": 7,
   "metadata": {},
   "outputs": [
    {
     "data": {
      "text/plain": [
       "\n",
       "Call:\n",
       "glm(formula = Salary ~ Age + WorkClass + FinalWeight + Education + \n",
       "    MaritalStatus + Occupation + Relationship + Gender + CapitalGain + \n",
       "    CapitalLoss + HoursWork, family = binomial, data = train)\n",
       "\n",
       "Deviance Residuals: \n",
       "    Min       1Q   Median       3Q      Max  \n",
       "-5.0961  -0.5291  -0.1936   0.0279   3.4393  \n",
       "\n",
       "Coefficients:\n",
       "                                     Estimate Std. Error z value Pr(>|z|)    \n",
       "(Intercept)                        -7.130e+00  3.929e-01 -18.146  < 2e-16 ***\n",
       "Age                                 2.644e-02  1.778e-03  14.869  < 2e-16 ***\n",
       "WorkClassLocal-gov                 -7.159e-01  1.163e-01  -6.154 7.54e-10 ***\n",
       "WorkClassPrivate                   -4.588e-01  9.626e-02  -4.766 1.88e-06 ***\n",
       "WorkClassSelf-emp-inc              -2.776e-01  1.278e-01  -2.173  0.02977 *  \n",
       "WorkClassSelf-emp-not-inc          -9.857e-01  1.133e-01  -8.703  < 2e-16 ***\n",
       "WorkClassState-gov                 -7.653e-01  1.290e-01  -5.930 3.02e-09 ***\n",
       "FinalWeight                         7.496e-07  1.800e-07   4.164 3.13e-05 ***\n",
       "Education11th                       7.190e-02  2.201e-01   0.327  0.74395    \n",
       "Education12th                       5.065e-01  2.939e-01   1.724  0.08479 .  \n",
       "Education7th-8th                   -6.220e-01  2.593e-01  -2.399  0.01643 *  \n",
       "Education9th                       -2.417e-01  2.851e-01  -0.848  0.39663    \n",
       "EducationAssoc-acdm                 1.323e+00  1.841e-01   7.187 6.60e-13 ***\n",
       "EducationAssoc-voc                  1.277e+00  1.770e-01   7.215 5.38e-13 ***\n",
       "EducationBachelors                  1.947e+00  1.645e-01  11.838  < 2e-16 ***\n",
       "EducationDoctorate                  3.089e+00  2.377e-01  12.998  < 2e-16 ***\n",
       "EducationHS-grad                    7.881e-01  1.596e-01   4.937 7.95e-07 ***\n",
       "EducationMasters                    2.337e+00  1.765e-01  13.239  < 2e-16 ***\n",
       "EducationProf-school                2.894e+00  2.145e-01  13.495  < 2e-16 ***\n",
       "EducationSome-college               1.117e+00  1.621e-01   6.893 5.47e-12 ***\n",
       "MaritalStatusMarried-civ-spouse     2.357e+00  3.045e-01   7.743 9.75e-15 ***\n",
       "MaritalStatusMarried-spouse-absent -3.049e-02  2.690e-01  -0.113  0.90977    \n",
       "MaritalStatusNever-married         -4.482e-01  9.172e-02  -4.886 1.03e-06 ***\n",
       "MaritalStatusSeparated             -1.101e-01  1.728e-01  -0.637  0.52405    \n",
       "MaritalStatusWidowed                1.497e-01  1.655e-01   0.904  0.36583    \n",
       "OccupationCraft-repair              6.350e-02  8.372e-02   0.759  0.44812    \n",
       "OccupationExec-managerial           7.726e-01  8.083e-02   9.558  < 2e-16 ***\n",
       "OccupationFarming-fishing          -9.869e-01  1.456e-01  -6.779 1.21e-11 ***\n",
       "OccupationHandlers-cleaners        -7.678e-01  1.528e-01  -5.026 5.02e-07 ***\n",
       "OccupationMachine-op-inspct        -2.857e-01  1.072e-01  -2.665  0.00770 ** \n",
       "OccupationOther-service            -9.059e-01  1.298e-01  -6.981 2.92e-12 ***\n",
       "OccupationProf-specialty            4.656e-01  8.599e-02   5.414 6.15e-08 ***\n",
       "OccupationProtective-serv           6.192e-01  1.301e-01   4.760 1.94e-06 ***\n",
       "OccupationSales                     2.797e-01  8.618e-02   3.246  0.00117 ** \n",
       "OccupationTech-support              6.444e-01  1.157e-01   5.568 2.57e-08 ***\n",
       "OccupationTransport-moving         -1.082e-01  1.031e-01  -1.050  0.29391    \n",
       "RelationshipNot-in-family           6.761e-01  3.016e-01   2.242  0.02499 *  \n",
       "RelationshipOther-relative         -4.031e-01  2.920e-01  -1.381  0.16742    \n",
       "RelationshipOwn-child              -5.877e-01  2.935e-01  -2.002  0.04525 *  \n",
       "RelationshipUnmarried               5.744e-01  3.168e-01   1.813  0.06984 .  \n",
       "RelationshipWife                    1.332e+00  1.103e-01  12.076  < 2e-16 ***\n",
       "GenderMale                          8.747e-01  8.401e-02  10.412  < 2e-16 ***\n",
       "CapitalGain                         3.184e-04  1.106e-05  28.784  < 2e-16 ***\n",
       "CapitalLoss                         6.509e-04  3.998e-05  16.281  < 2e-16 ***\n",
       "HoursWork                           2.968e-02  1.774e-03  16.735  < 2e-16 ***\n",
       "---\n",
       "Signif. codes:  0 '***' 0.001 '**' 0.01 '*' 0.05 '.' 0.1 ' ' 1\n",
       "\n",
       "(Dispersion parameter for binomial family taken to be 1)\n",
       "\n",
       "    Null deviance: 31005  on 27244  degrees of freedom\n",
       "Residual deviance: 17992  on 27200  degrees of freedom\n",
       "AIC: 18082\n",
       "\n",
       "Number of Fisher Scoring iterations: 7\n"
      ]
     },
     "metadata": {},
     "output_type": "display_data"
    }
   ],
   "source": [
    "# Setting to suppress warnings\n",
    "options(warn=-1)\n",
    "# Fit a stepwise model\n",
    "sw.fit <- step(glm.fit,trace = 0,k = log(nrow(train)), direction=\"both\")\n",
    "# Setting to suppress warnings\n",
    "options(warn=0)\n",
    "# Getting the summary to understand the result\n",
    "summary(sw.fit)"
   ]
  },
  {
   "cell_type": "code",
   "execution_count": 8,
   "metadata": {},
   "outputs": [],
   "source": [
    "# Making prediction using train data and view the statistics\n",
    "predict.label <- NULL\n",
    "predict.label <- predict(sw.fit,train,type = \"response\")"
   ]
  },
  {
   "cell_type": "code",
   "execution_count": 9,
   "metadata": {},
   "outputs": [
    {
     "data": {
      "text/html": [
       "<dl>\n",
       "\t<dt>$accuracy</dt>\n",
       "\t\t<dd>0.8451</dd>\n",
       "\t<dt>$precision</dt>\n",
       "\t\t<dd>0.7396</dd>\n",
       "\t<dt>$recall</dt>\n",
       "\t\t<dd>0.6104</dd>\n",
       "\t<dt>$fscore</dt>\n",
       "\t\t<dd>0.6688</dd>\n",
       "</dl>\n"
      ],
      "text/latex": [
       "\\begin{description}\n",
       "\\item[\\$accuracy] 0.8451\n",
       "\\item[\\$precision] 0.7396\n",
       "\\item[\\$recall] 0.6104\n",
       "\\item[\\$fscore] 0.6688\n",
       "\\end{description}\n"
      ],
      "text/markdown": [
       "$accuracy\n",
       ":   0.8451\n",
       "$precision\n",
       ":   0.7396\n",
       "$recall\n",
       ":   0.6104\n",
       "$fscore\n",
       ":   0.6688\n",
       "\n",
       "\n"
      ],
      "text/plain": [
       "$accuracy\n",
       "[1] 0.8451\n",
       "\n",
       "$precision\n",
       "[1] 0.7396\n",
       "\n",
       "$recall\n",
       "[1] 0.6104\n",
       "\n",
       "$fscore\n",
       "[1] 0.6688\n"
      ]
     },
     "metadata": {},
     "output_type": "display_data"
    }
   ],
   "source": [
    "# Only run the below if you have labels, in your submission, this must be UNCOMMENTED\n",
    "mod.stat(predict.label, truth.label)"
   ]
  },
  {
   "cell_type": "markdown",
   "metadata": {},
   "source": [
    "PROVIDE DISCUSSION HERE"
   ]
  },
  {
   "cell_type": "markdown",
   "metadata": {},
   "source": [
    "<h2> Question 4 (Libraries are allowed) (25 Marks) </h2>\n",
    "\n",
    "Similar to the first part, to simulate for a realistic modelling process, this question will be in the form of a competition among students to find out who has the best model.\n",
    "\n",
    "Thus, You will be graded by the performance of your model compared to your classmates', the better your model, the higher your score. Additionally, you need to write a short paragraph describing/documenting your thought process in this model building process ``(300 words)``. Note that this is to explain to us why you build your current model so that we can verify that you understand the model you build and not just copy from other people.\n",
    "\n",
    "$\\textbf{Note}$ Please make sure that we can install the libraries that you use in this part, the code structure can be:\n",
    "\n",
    "``install.packages(\"some package\", repos='http://cran.us.r-project.org')``\n",
    "\n",
    "``library(\"some package\")``\n",
    "\n",
    "Remember that if we cannot run your code, we will have to give you a deduction, our suggestion is for you to use the standard ``R version 3.6.1``\n",
    "\n",
    "You also need to name your final model ``fin.mod`` so we can run a check to find out your performance. A good test for your understanding would be to set the previous $\\textbf{BIC model}$ to be the final model to check if your code works perfectly.\n",
    "\n",
    "\n",
    "$20$ Marks for the model performance in the competition\n",
    "\n",
    "$5$ Marks for logically writing down the thought process in building the final model\n",
    "\n",
    "This is the [link](https://www.kaggle.com/t/1bdebc96607742dbaf47ab36cd3ae421) to the competition"
   ]
  },
  {
   "cell_type": "markdown",
   "metadata": {},
   "source": [
    "__<span style=\"color:blue\">SOLUTION 4:</span>__ \n",
    "\n",
    "After pruning the data using BIC criterion, the Accuarcy has observed to be 0.84. Hence, to improve the accuracy (RMSE score) first we need an better model \n",
    "\n",
    "Few Models were tried such as SVM, h2o and train function but best non tuned accuracy was observed using ranger. Which uses randomForest techniques. Further randomForest modelling were used as final model as in comparision with other models tried, RandomForest resulted in better score when checked for output on kaggle. After that hyper parameter optimization were neccesary to extract best Accuarcy.\n",
    "\n",
    "After multiple experiments combination of parameters were found which result in best score so far."
   ]
  },
  {
   "cell_type": "code",
   "execution_count": null,
   "metadata": {
    "scrolled": true
   },
   "outputs": [],
   "source": [
    "# Library used\n",
    "\n",
    "# install.packages(\"ranger\")\n",
    "library(ranger)"
   ]
  },
  {
   "cell_type": "code",
   "execution_count": null,
   "metadata": {},
   "outputs": [],
   "source": [
    "# Build your final model here, use additional coding block if you want to\n",
    "fin.mod <- NULL\n",
    "# An example would be use the previous model as your final one\n",
    "fin.mod <- ranger(Salary ~ .,data = train, mtry = 3,min.node.size = 4,num.tree = 900)"
   ]
  },
  {
   "cell_type": "code",
   "execution_count": null,
   "metadata": {
    "scrolled": true
   },
   "outputs": [],
   "source": [
    "# Getting the predict label for the TEST data\n",
    "pred.label <- predict(fin.mod, test)\n",
    "pred.label <- (pred.label$predictions > 0)"
   ]
  },
  {
   "cell_type": "code",
   "execution_count": null,
   "metadata": {},
   "outputs": [],
   "source": [
    "# PLEASE DO NOT ALTER THIS CODE BLOCK\n",
    "# Use this csv file to commit to the leaderboard\n",
    "write.csv(data.frame(\"RowIndex\" = seq(1, length(pred.label)), \"Prediction\" = pred.label),  \n",
    "          \"ClassPredictLabel.csv\", row.names = F)"
   ]
  },
  {
   "cell_type": "code",
   "execution_count": null,
   "metadata": {},
   "outputs": [],
   "source": [
    "## PLEASE DO NOT ALTER THIS CODE BLOCK\n",
    "## Please skip (don't run) this if you are a student\n",
    "## For teaching team use only\n",
    "source(\"../data/modassess.r\")\n",
    "model.perf <- mod.stat.test(pred.label,label$Label)\n",
    "print(model.perf)"
   ]
  },
  {
   "cell_type": "markdown",
   "metadata": {
    "colab_type": "text",
    "id": "Va7-A1UviCmz"
   },
   "source": [
    "<h1>References</h1>"
   ]
  }
 ],
 "metadata": {
  "colab": {
   "collapsed_sections": [],
   "name": "Assignment 1 Instructions and Contents.ipynb",
   "provenance": []
  },
  "kernelspec": {
   "display_name": "R",
   "language": "R",
   "name": "ir"
  },
  "language_info": {
   "codemirror_mode": "r",
   "file_extension": ".r",
   "mimetype": "text/x-r-source",
   "name": "R",
   "pygments_lexer": "r",
   "version": "3.6.1"
  }
 },
 "nbformat": 4,
 "nbformat_minor": 1
}
