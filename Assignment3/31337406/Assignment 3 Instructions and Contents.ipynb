{
 "cells": [
  {
   "cell_type": "markdown",
   "metadata": {
    "colab_type": "text",
    "id": "MlGsu74PRze0"
   },
   "source": [
    "[<h1> FIT5197 Assignment 3 Semester 2, 2020 </h1>](https://lms.monash.edu/mod/assign/view.php?id=7560449)\n",
    "\n",
    "---\n",
    "Authors: Dan Nguyen, Yun Zhao\n",
    "\n",
    "Admins (Competition): Dr. Levin Kuhlmann, Yun Zhao, Anil Gurbuz\n",
    "\n",
    "Proofreaders: Dr. Levin Kuhlmann, Yun Zhao, and other tutors \n",
    "\n",
    "Date: Oct 2020\n",
    "\n",
    "---"
   ]
  },
  {
   "cell_type": "markdown",
   "metadata": {},
   "source": [
    "[<h1> Assignment Instruction </h1>](https://lms.monash.edu/mod/assign/view.php?id=7560449)\n",
    "\n",
    "<span style=\"color:red\"> Please read through the instructions carefully, by submitting the assignment, you are considered to have read all the instructions carefully and be aware of the penalties that entail. </span>"
   ]
  },
  {
   "cell_type": "markdown",
   "metadata": {
    "colab_type": "text",
    "id": "E-lggSuURze1"
   },
   "source": [
    "<h1>Part 1: Regression (50 Marks)</h1>"
   ]
  },
  {
   "cell_type": "markdown",
   "metadata": {
    "colab_type": "text",
    "id": "Ar--DpysOWJd"
   },
   "source": [
    "This part is about regression. Specifically, you will be ``predicting the fuel efficiency`` of a car (in kilometers per litre) based on its characteristics. This is a practical problem as Australia is one of the largest automobile markets in the world; thus, correctly predicting the fuel efficiency is necessary to control emission rates to the environment.\n",
    "\n",
    "The dataset has many observations and predictors obtained from many retailers for car models available for sale from 2017 to 2020. The target variable is the fuel efficiency of the car measured in kilometers per litre. The higher this value, the better the fuel efficiency of the car. \n",
    "\n",
    "PleaseProvide working/R code/justifications for each of these questions as required.\n",
    "\n",
    "$\\textbf{Note:}$ If not explicitly mentioned, libraries are not allowed"
   ]
  },
  {
   "cell_type": "code",
   "execution_count": null,
   "metadata": {},
   "outputs": [],
   "source": [
    "# Read the data from students' side\n",
    "remove(list = ls())\n",
    "train <- read.csv(\"RegressionTrain.csv\")\n",
    "test <- read.csv(\"RegressionTest.csv\")"
   ]
  },
  {
   "cell_type": "code",
   "execution_count": null,
   "metadata": {},
   "outputs": [],
   "source": [
    "# PLEASE DO NOT ALTER THIS CODE BLOCK\n",
    "# Please skip (don't run) this if you are a student\n",
    "# Read in the data from marking tutors' side (ensure no cheating!)\n",
    "remove(list = ls())\n",
    "train <- read.csv(\"../data/RegressionTrain.csv\")\n",
    "test <- read.csv(\"../data/RegressionTest.csv\")\n",
    "label <- read.csv(\"../data/RegressionTestLabel.csv\")"
   ]
  },
  {
   "cell_type": "markdown",
   "metadata": {
    "colab_type": "text",
    "id": "0epC4XmxOWJe"
   },
   "source": [
    "<h2> Question 1 (5 Marks) </h2>\n",
    "\n",
    "Fit a $\\textbf{multiple linear model}$ to the fuel efficiency data using the ``train`` dataset. By checking the summary information, which predictors/variables do you think are possibly associated with fuel efficiency (use ``0.05`` significant level), and why? Which ``three predictors/variables`` appear to be the strongest predictors of fuel efficiency, and why? \n",
    "\n",
    "$\\textbf{Note}$: You don't have to worry about categorical variables here since R can deal with this automatically, focus your efforts on interpretation. Additionally, when explaining why features are strongly associated with the target, please refrain giving one or two sentences answers, these answers are not descriptive enough and will result in deduction of marks. Finally, please name the model here ``lm.fit`` for future marking purposes."
   ]
  },
  {
   "cell_type": "code",
   "execution_count": null,
   "metadata": {},
   "outputs": [],
   "source": [
    "# mutlivariate linear regression model \n",
    "lm.fit <- lm(Comb.FE ~ .,data=train)\n",
    "summary(lm.fit)"
   ]
  },
  {
   "cell_type": "code",
   "execution_count": null,
   "metadata": {},
   "outputs": [],
   "source": [
    "TopPredictor.lm <- function(model){\n",
    "    # Finding the best predictors/variables for fuel efficiency\n",
    "    Predictor <- coef(summary(model))\n",
    "    # Filtering only predictors/variables with significance of 0.05\n",
    "    Best.Pred <- Predictor[Predictor[,\"Pr(>|t|)\"]<0.05,]\n",
    "    Predictor <- sort(Best.Pred[,4],decreasing=FALSE)\n",
    "    print(Predictor[1])\n",
    "    print(Predictor[2])\n",
    "    print(Predictor[3])\n",
    "    }\n",
    "\n",
    "TopPredictor(lm.fit)"
   ]
  },
  {
   "cell_type": "markdown",
   "metadata": {},
   "source": [
    "__<span style=\"color:blue\">SOLUTION 1:</span>__ \n",
    "\n",
    "__<span style=\"color:blue\">Predictor/variables (significance level of 0.05 or less) that have possibly associated with fuel efficiency are:- </span>__\n",
    "\n",
    "1. Model.Year           &nbsp;        ``Significance: 0.05``\n",
    "2. Eng.Displacement     &nbsp;        ``Significance: 0.0``\n",
    "3. AspirationSC         &nbsp;        ``Significance: 0.0``\n",
    "4. AspirationTC         &nbsp;        ``Significance: 0.0``\n",
    "5. AspirationTS         &nbsp;        ``Significance: 0.0``\n",
    "6. No.Gears             &nbsp;        ``Significance: 0.0``\n",
    "7. Lockup.Torque.ConverterY   &nbsp;  ``Significance: 0.0``\n",
    "8. Drive.SysF                &nbsp;   ``Significance: 0.0``\n",
    "9. Max.Ethanol                &nbsp;  ``Significance: 0.05``\n",
    "10. Fuel.TypeGP               &nbsp;  ``Significance: 0.0``\n",
    "\n",
    "Above variables have $\\textbf{Pr(>|t|)}$ less than or equal to 0.05 when applied Linear model function. \n",
    "\n",
    "__<span style=\"color:blue\">Predictor/variables with strongest associated with fuel efficiency are:- </span>__\n",
    "\n",
    "1. Eng.Displacement :    &nbsp;        $\\textbf{Pr(>|t|)} ---->$ less than 2e-16\n",
    "2. AspirationSC     :    &nbsp;        $\\textbf{Pr(>|t|)} ------>$ less than 2e-16\n",
    "3. Drive.SysF       :    &nbsp;   $\\textbf{Pr(>|t|)} ------->$ less than 2e-16\n",
    "\n",
    "These are the most significant and have the least $\\textbf{Pr(>|t|)}$ value when we apply linear modelling."
   ]
  },
  {
   "cell_type": "markdown",
   "metadata": {
    "colab_type": "text",
    "id": "kEUu5eFpOWJi"
   },
   "source": [
    "<h2> Question 2 (5 Marks) </h2>\n",
    "\n",
    "Describe/discuss the effect that the year of manufacture ``(Model.Year)`` variable appears to have on the mean ``fuel efficiency``. Additionally, describe/discuss the effect that the number of gears ``(No.Gears)`` variable has on the mean ``fuel efficiency`` of the car.\n",
    "\n",
    "$\\textbf{Note}$: This asks for your descriptions, please refrain from using one or two lines to describe/discuss the effect. Keep answers to be 4 decimal places"
   ]
  },
  {
   "cell_type": "markdown",
   "metadata": {
    "colab_type": "text",
    "id": "0Ybm3VKDOWJe"
   },
   "source": [
    "__<span style=\"color:blue\">SOLUTION 2:</span>__ \n",
    "\n",
    "__<span style=\"color:blue\">Model.Year versus mean fuel efficiency</span>__\n",
    "\n",
    "From below graph we can conclude that model year don't have any significant effect on fuel efficiency\n",
    "\n",
    "__<span style=\"color:blue\">Numbers of Gears versus mean fuel efficiency</span>__\n",
    "\n",
    "From below graph we can conclude that Numbers of Gears does have significant effect on fuel efficiency. As No. of gears increases Fuel efficiency of mean car decreases significantly. Although not perfect an linear equation can be generated that might show graphs behaviour  "
   ]
  },
  {
   "cell_type": "code",
   "execution_count": null,
   "metadata": {},
   "outputs": [],
   "source": [
    "# grouping and finding the mean of data\n",
    "df1 <- aggregate(x = train$Comb.FE,by=list(Year=train$Model.Year),FUN=mean)\n",
    "df2 <- aggregate(x = train$Comb.FE,by=list(No.Gears=train$No.Gears),FUN=mean)\n",
    "\n",
    "# Plotting graph\n",
    "plot(df1,col  = \"red\",main = \"Model.Year (Year) versus mean fuel efficiency (x)\")\n",
    "lines((df1))\n",
    "plot(df2,col  = \"red\",main = \"Numbers of Gears (No.Gears) versus mean fuel efficiency (x)\")\n",
    "lines((df2))"
   ]
  },
  {
   "cell_type": "markdown",
   "metadata": {
    "colab_type": "text",
    "id": "C6XyKtwfOWJj"
   },
   "source": [
    "<h2> Question 3 (5 Marks) </h2>\n",
    "\n",
    "Apply the stepwise selection procedure with the $\\textbf{BIC}$ penalty to prune out potentially less significant variables. Write down the final regression equation obtained after pruning, please keep the values of the parameter coefficients to 2 decimal places. Finally, also describe the pruned model.\n",
    "\n",
    "$\\textbf{Note}$: please don't change the default direction ``both`` in the step function, this is so that we can check your work easily. Additionally, please name this model ``sw.fit``"
   ]
  },
  {
   "cell_type": "markdown",
   "metadata": {
    "colab_type": "text",
    "id": "0Ybm3VKDOWJe"
   },
   "source": [
    "$\\textbf{YOUR ANSWER HERE}$"
   ]
  },
  {
   "cell_type": "code",
   "execution_count": null,
   "metadata": {
    "scrolled": true
   },
   "outputs": [],
   "source": [
    "# mutlivariate linear regression model with pruning done using BIC penalty\n",
    "sw.fit <- step(lm.fit,k = log(nrow(train)), direction=\"both\")\n",
    "summary(sw.fit)"
   ]
  },
  {
   "cell_type": "markdown",
   "metadata": {},
   "source": [
    "__<span style=\"color:blue\">SOLUTION 3:</span>__ \n",
    "\n",
    "BIC penalty can help Prune variables which doesn't impact fuel efficency significantly. Model add or remove variables to give the equation with minimum AIC.\n",
    "\n",
    "<span style=\"color:blue\">Step 1:</span> ``AIC=1424.68`` \n",
    "\n",
    "Comb.FE ~ Model.Year + Eng.Displacement + No.Cylinders + Aspiration + No.Gears + Lockup.Torque.Converter + Drive.Sys + Max.Ethanol + Fuel.Type\n",
    "\n",
    "<span style=\"color:blue\">Step 2:</span> ``AIC=1413.96`` \n",
    "\n",
    "Comb.FE ~ Model.Year + Eng.Displacement + No.Cylinders + Aspiration + No.Gears + Lockup.Torque.Converter + Drive.Sys + Max.Ethanol\n",
    "\n",
    "<span style=\"color:blue\">Step 3:</span> ``AIC=1407.38`` \n",
    "\n",
    "Comb.FE ~ Model.Year + Eng.Displacement + Aspiration + No.Gears + Lockup.Torque.Converter + Drive.Sys + Max.Ethanol \n",
    "\n",
    "<span style=\"color:blue\">Step 4:</span> ``AIC=1405.54`` \n",
    "\n",
    "Comb.FE ~ Eng.Displacement + Aspiration + No.Gears + Lockup.Torque.Converter + Drive.Sys + Max.Ethanol\n",
    "\n",
    "\n",
    "<span style=\"color:blue\">FORMULA:</span>\n",
    "<b>Comb.FE = 16.2 - 1.28*Eng.displacement - 0.1*AspirationOT - 0.7*AspirationSC -1.14*AspiratioTC - 1.12*AspirationTS - 0.11*No.Gears -0.83*Lockup.Torque.Converter + 0.04*Drive.SysA + 1.48*Drive.SysF -0.32*Drive.SysP + 0.09* Drive.SysR - 0.01*Max.Ethanol<b>"
   ]
  },
  {
   "cell_type": "markdown",
   "metadata": {
    "colab_type": "text",
    "id": "izq8RU0lOWJn"
   },
   "source": [
    "<h2> Question 4 (5 Marks) </h2>\n",
    "\n",
    "Say we are going to buy a new car and we want to improve the fuel efficiency of our new car, what does this ``BIC model`` suggest we should do? Provide a detailed answers of at least ``150 words``."
   ]
  },
  {
   "cell_type": "markdown",
   "metadata": {
    "colab_type": "text",
    "id": "0Ybm3VKDOWJe"
   },
   "source": [
    "__<span style=\"color:blue\">SOLUTION 4:</span>__ \n",
    "\n",
    "From the data formula mentioned above we get some sort of picture about an mathermatical model than can be used to figure out dependence of fuel efficiency on independent variable such as Engine displacement, Aspiration, Number of Gears ,Lockup Torque Converter , Drive System and Maximum Ethanol. These independent varaibles are selected by BIC model because there combination leads to lowest Akaike information criterion, i.e. AIC . Decreasing the values with negative coefficent such as Eng.displacement (coeff = -1.28) and increasing values with positive coefficent such as Drive.SysF (coeff = 1.48) is necceasry to improve the Fuel efficiency of our new car"
   ]
  },
  {
   "cell_type": "markdown",
   "metadata": {
    "colab_type": "text",
    "id": "bhFKnrlcOWJo"
   },
   "source": [
    "<h2> Question 5 (5 Marks)</h2>\n",
    "\n",
    "Imagine that you are looking for a new car to buy to replace your existing car. Use the $\\textbf{test}$ dataset to inspect the first car fuel efficiency and see whether it is a good fit for you or not.\n",
    "    \n",
    "    (a) Use your BIC model to predict the mean fuel efficiency for this new car. Provide a 95% confidence interval for this prediction. [2 mark]\n",
    "    (b) Following the previous estimation, given that the current car that you own has a mean fuel efficiency of 9.5 km/l (measured over the life time of your ownership), does your model (BIC) suggest that the new car will have better fuel efficiency than your current car? Why? [3 marks]"
   ]
  },
  {
   "cell_type": "code",
   "execution_count": null,
   "metadata": {},
   "outputs": [],
   "source": [
    "# fuel efficiency prediction with 95% confidence interval\n",
    "test$Comb.FE = predict(sw.fit,test,level=0.95, interval='confidence')\n",
    "print(test$Comb.FE[1,])"
   ]
  },
  {
   "cell_type": "markdown",
   "metadata": {
    "colab_type": "text",
    "id": "0Ybm3VKDOWJe"
   },
   "source": [
    "__<span style=\"color:blue\">SOLUTION 5:</span>__ \n",
    "\n",
    "1. Using BIC (95% confidence interval) car's mean F.E. value is 9.287 , lower F.E. value is 9.053 and upper F.E. value 9.521\n",
    "\n",
    "2. As the value is very close to mean fuel efficiency of 9.5 km/l therefore it's not wise to buy current car"
   ]
  },
  {
   "cell_type": "markdown",
   "metadata": {},
   "source": [
    "<h2> Question 6 (Libraries are allowed) (25 Marks) </h2>\n",
    "\n",
    "As a Data Scientist, one of the key tasks is to build models $\\textbf{most appropriate/closest}$ to the truth; thus, modelling will not be limitted to these steps in the assignment. To simulate for a realistic modelling process, this question will be in the form of a competition among students to find out who has the best model.\n",
    "\n",
    "Thus, You will be graded by the performance of your model compared to your classmates', the better your model, the higher your score. Additionally, you need to write a short paragraph describing/documenting your thought process in this model building process ``(300 words)``. Note that this is to explain to us why you build your current model so that we can verify that you understand the model you build and not just copy from other people.\n",
    "\n",
    "$\\textbf{Note}$ Please make sure that we can install the libraries that you use in this part, the code structure can be:\n",
    "\n",
    "``install.packages(\"some package\", repos='http://cran.us.r-project.org')``\n",
    "\n",
    "``library(\"some package\")``\n",
    "\n",
    "Remember that if we cannot run your code, we will have to give you 0 marks, our suggestion is for you to use the standard ``R version 3.6.1``\n",
    "\n",
    "You also need to name your final model ``fin.mod`` so we can run a check to find out your performance. A good test for your understanding would be to set the previous $\\textbf{BIC model}$ to be the final model to check if your code works Appropriately.\n",
    "\n",
    "$20$ Marks for the model performance in the competition\n",
    "\n",
    "$5$ Marks for logically writing down the thought process in building the final model\n",
    "\n",
    "This is the [link](https://www.kaggle.com/t/0a3c0fc91b074816a6315bb4e9b42602) to the competition"
   ]
  },
  {
   "cell_type": "markdown",
   "metadata": {
    "colab_type": "text",
    "id": "0Ybm3VKDOWJe"
   },
   "source": [
    "__<span style=\"color:blue\">SOLUTION 6:</span>__ \n",
    "\n",
    "After pruning the data using BIC criterion, the R square value has observed to be 0.65. Hence, to improve the accuracy (RMSE score) first we need to \n",
    "1. transform the independent variables \n",
    "2. Find Optimum Regression model.\n",
    "\n",
    "ggpairs was used to observe the trend of fuel efficiency w.r.t other independent variables. To make an optimum final regression equation an combination of logs and polynomials of independent variables were used.\n",
    "After carefully observing the trend of fuel efficiency w.r.t other independent variables, \n",
    "\n",
    "Further randomForest modelling were used as final model as in comparision with other models tried, RandomForest resulted in better score when checked for output on kaggle. After that hyper parameter optimization were neccesary to extract best RMSE score.\n",
    "\n",
    "After multiple experiments combination of parameters were found which result in best score so far."
   ]
  },
  {
   "cell_type": "code",
   "execution_count": null,
   "metadata": {
    "scrolled": false
   },
   "outputs": [],
   "source": [
    "# Library used\n",
    "# install.packages(\"randomForestSRC\")\n",
    "# install.packages(\"GGally\")\n",
    "options(warn=0)\n",
    "library(randomForestSRC)\n",
    "library(GGally)\n",
    "\n",
    "# An correlation graph to make sense of data variables as well as any relation that can effect train-label\n",
    "data(train, package = \"reshape\")\n",
    "ggpairs(\n",
    "  train[, c(2, 3, 4, 5, 8, 10)],\n",
    "  upper = list(continuous = \"density\", combo = \"box_no_facet\"),\n",
    "  lower = list(continuous = \"points\", combo = \"dot_no_facet\")\n",
    ")\n",
    "\n",
    "# Creating extra variables that might represent fuel efficiency \n",
    "train$log.Eng.Displacement = log(train$Eng.Displacement)\n",
    "train$log.Gear = log(train$No.Gears)\n",
    "train$log.Max.Ethanol = log(train$Max.Ethanol)\n",
    "train$log.No.Cylinders = log(train$No.Cylinders)\n",
    "\n",
    "train$SQRT.Eng = sqrt(train$Eng.Displacement)\n",
    "train$SQRT.Gear = sqrt(train$No.Gears)\n",
    "train$SQRT.Max.Ethanol = sqrt(train$Max.Ethanol)\n",
    "train$SQRT.No.Cylinders = sqrt(train$No.Cylinders)\n",
    "\n",
    "train$Sq.Eng = (train$Eng.Displacement)^2\n",
    "train$Sq.Gear = (train$No.Gears)^2\n",
    "train$Sq.Max.Ethanol = (train$Max.Ethanol)^2\n",
    "train$Sq.No.Cylinders = (train$No.Cylinders)^2\n",
    "\n",
    "train$log2.Ethanol <- log(log(log(train$Max.Ethanol)))\n",
    "train$Combination <- train$log.Eng.Displacement * train$Sq.Max.Ethanol *train$Sq.Gear *train$Sq.No.Cylinders\n",
    "\n",
    "# For predicting the test label, new variables were introduced in test data\n",
    "test$log.Eng.Displacement = log(test$Eng.Displacement)\n",
    "test$log.Gear = log(test$No.Gears)\n",
    "test$log.Max.Ethanol = log(test$Max.Ethanol)\n",
    "test$log.No.Cylinders = log(test$No.Cylinders)\n",
    "\n",
    "test$SQRT.Eng = sqrt(test$Eng.Displacement)\n",
    "test$SQRT.Gear = sqrt(test$No.Gears)\n",
    "test$SQRT.Max.Ethanol = sqrt(test$Max.Ethanol)\n",
    "test$SQRT.No.Cylinders = sqrt(test$No.Cylinders)\n",
    "\n",
    "test$Sq.Eng = (test$Eng.Displacement)^2\n",
    "test$Sq.Gear = (test$No.Gears)^2\n",
    "test$Sq.Max.Ethanol = (test$Max.Ethanol)^2\n",
    "test$Sq.No.Cylinders = (test$No.Cylinders)^2\n",
    "\n",
    "test$log2.Ethanol <- log(log(log(test$Max.Ethanol)))\n",
    "test$Combination <- test$log.Eng.Displacement * test$Sq.Max.Ethanol *test$Sq.Gear *test$Sq.No.Cylinders"
   ]
  },
  {
   "cell_type": "code",
   "execution_count": null,
   "metadata": {},
   "outputs": [],
   "source": [
    "# Use this function to check the performance of your model\n",
    "rmse <- function(pred.label, truth.label){\n",
    "    # Lower is better\n",
    "    return(sqrt(mean((pred.label - truth.label)^2)))\n",
    "}"
   ]
  },
  {
   "cell_type": "code",
   "execution_count": null,
   "metadata": {},
   "outputs": [],
   "source": [
    "# Build your final model here, use additional coding block if you want to\n",
    "fin.mod <- NULL\n",
    "# Creating an model with tuned variables using experiments\n",
    "fin.mod <- rfsrc(Comb.FE ~ Eng.Displacement + Eng.Displacement * log.Eng.Displacement + Combination + log2.Ethanol + Aspiration + No.Gears * \n",
    "                   Lockup.Torque.Converter + Drive.Sys + Max.Ethanol + Fuel.Type + No.Cylinders +\n",
    "                   log.Eng.Displacement * log.Gear * log.Max.Ethanol * log.No.Cylinders + SQRT.Eng * SQRT.Gear *\n",
    "                   SQRT.Max.Ethanol * SQRT.No.Cylinders + Sq.Eng * Sq.Gear * Sq.Max.Ethanol * Sq.No.Cylinders,\n",
    "    data = train,importance=TRUE,proximity=TRUE,mtry=8,nodesize=2,ntree=950,replace=TRUE)"
   ]
  },
  {
   "cell_type": "code",
   "execution_count": null,
   "metadata": {},
   "outputs": [],
   "source": [
    "# If you are using any packages that perform the prediction differently, please change the value of this variable\n",
    "pred.label <- predict(fin.mod, test)\n",
    "predict.label <- pred.label$predicted"
   ]
  },
  {
   "cell_type": "code",
   "execution_count": null,
   "metadata": {},
   "outputs": [],
   "source": [
    "# PLEASE DO NOT ALTER THIS CODE BLOCK\n",
    "# put this label in a csv file to commit to the Leaderboard\n",
    "write.csv(data.frame(\"RowIndex\" = seq(1, length(predict.label)), \"Prediction\" = predict.label),  \n",
    "          \"RegressionPredictLabel.csv\", row.names = F)"
   ]
  },
  {
   "cell_type": "code",
   "execution_count": null,
   "metadata": {},
   "outputs": [],
   "source": [
    "## PLEASE DO NOT ALTER THIS CODE BLOCK\n",
    "## Please skip (don't run) this if you are a student\n",
    "## For teaching team use only\n",
    "RMSE.fin <- rmse(pred.label, label$Label)\n",
    "cat(paste(\"RMSE is\", RMSE.fin))"
   ]
  },
  {
   "cell_type": "markdown",
   "metadata": {
    "colab_type": "text",
    "id": "E-lggSuURze1"
   },
   "source": [
    "<h1>Part 2: Classification (50 Marks)</h1>"
   ]
  },
  {
   "cell_type": "markdown",
   "metadata": {},
   "source": [
    "In this part, you are going to work with \"Census Income Dataset\" which was originally donated by Ronny Kohavi and Barry Becker to UCI (University of California, Irvine) in 1996. This is a trimmed dataset used for machine learning students to study classification. \n",
    "\n",
    "This dataset has collected over 40,000 records (we excluded some data in our version) regarding personal yearly income with 12 attributes (predictors). The attributes comprise many aspects of a person that may contribute to the yearly income. You can use summary() function to obtain the attributes information. Your prediction task is to determine whether a person makes over 50K a year.\n",
    "\n",
    "We have splitted the dataset into a trainning and a testing set. There are 27245 records in the training set while 13631 records in the testing set. Besides the 12 predictors, there is one more column named Salary indicating whether a person's yearly income is over 50K. The label information is a seperated file for the testing set and will be used by us to asess your performance later. Note the label TRUE means an individual's yearly salary exceeds 50K while FALSE means an individual's yearly salary is under 50K.\n",
    "\n",
    "$\\textbf{Note:}$ If not explicitly mentioned, libraries are not allowed"
   ]
  },
  {
   "cell_type": "code",
   "execution_count": null,
   "metadata": {},
   "outputs": [],
   "source": [
    "# Read the data from students' side\n",
    "remove(list = ls())\n",
    "train <- read.csv(\"ClassTrain.csv\")\n",
    "test  <- read.csv(\"ClassTest.csv\")"
   ]
  },
  {
   "cell_type": "code",
   "execution_count": null,
   "metadata": {},
   "outputs": [],
   "source": [
    "## PLEASE DO NOT ALTER THIS CODE BLOCK\n",
    "# Please skip (don't run) this if you are a student\n",
    "# Read in the data from marking tutors' side (ensure no cheating!)\n",
    "remove(list = ls())\n",
    "train <- read.csv(\"../data/ClassTrain.csv\")\n",
    "test  <- read.csv(\"../data/ClassTest.csv\")\n",
    "label <- read.csv(\"../data/ClassTestLabel.csv\")"
   ]
  },
  {
   "cell_type": "markdown",
   "metadata": {
    "colab_type": "text",
    "id": "0epC4XmxOWJe"
   },
   "source": [
    "<h2> Question 1 (10 Marks) </h2>\n",
    "\n",
    "Fit a $\\textbf{Generalized Linear Model (Logistic Regression)}$ to predict level of income (salary) $\\left(\\;\\geq 50\\;\\text{K, or } <50\\;\\text{K}\\;\\right)$ using the ``train`` dataset. Using the results of fitting this model, which predictors do you think are possibly associated with the level of Salary (use ``0.05`` significant level), and why? Which ``three variables`` appear to be the strongest predictors of salary, and why? \n",
    "\n",
    "Furthermore, you can see that you have much more predictors in this part than in the ``linear model`` from Part 1 $\\Rightarrow$ manually checking information is counterproductive. Thus, please write a function to automate these processes $\\textbf{(1)}$ selecting important feature against 0.05 threshold and $\\textbf{(2)}$ Selecting three most important features.\n",
    "\n",
    "$\\textbf{Note}$: You don't have to worry about categorical variables here since R can deal with this automatically, focus your efforts on interpretation. Additionally, when explaining why features are strongly associated with the target, please refrain from giving one or two sentences answers, these answers are not descriptive and will result in a deduction of marks. Finally, please name the model here ``glm.fit`` and have the parameter in the model set to ``family = binomial``."
   ]
  },
  {
   "cell_type": "markdown",
   "metadata": {
    "colab_type": "text",
    "id": "0Ybm3VKDOWJe"
   },
   "source": [
    "__<span style=\"color:blue\">SOLUTION 1:</span>__ \n",
    "\n",
    "__<span style=\"color:blue\">Predictor/variables that have possibly associated with Salary are:- </span>__\n",
    "\n",
    "Age, WorkClass, FinalWeight, Education, MaritalStatus, Occupation, Relationship, Gender, CapitalGain, CapitalLoss, HoursWork\n",
    "\n",
    "\n",
    "__<span style=\"color:blue\">Predictor/variables with strongest associated with fuel efficiency are:- </span>__\n",
    "\n",
    "1. CapitalGain\n",
    "2. HoursWork\n",
    "3. CapitalLoss\n",
    "\n",
    "These are the most significant and have the least $\\textbf{Pr(>|z|)}$ value when we apply Generalized linear modelling."
   ]
  },
  {
   "cell_type": "code",
   "execution_count": null,
   "metadata": {
    "scrolled": true
   },
   "outputs": [],
   "source": [
    "# Build your model, keep family = binomial, ignore the warnings, they are benign\\\n",
    "# mutlivariate generalized linear regression model\n",
    "glm.fit <- glm(Salary ~.,data = train, family = binomial)\n",
    "options(warn=0)\n",
    "summary(glm.fit)"
   ]
  },
  {
   "cell_type": "code",
   "execution_count": null,
   "metadata": {},
   "outputs": [],
   "source": [
    "TopPredictor <- function(model){\n",
    "    # Finding the best predictors/variables for fuel efficiency\n",
    "    Predictor <- coef(summary(model))\n",
    "    # Filtering only predictors/variables with significance of 0.05\n",
    "    Best.Pred <- Predictor[Predictor[,\"Pr(>|z|)\"]<0.05,]\n",
    "    Predictor <- sort(Best.Pred[,4],decreasing=FALSE)\n",
    "    print(Predictor[1])\n",
    "    print(Predictor[3])\n",
    "    print(Predictor[4])\n",
    "    }\n",
    "\n",
    "TopPredictor(glm.fit)"
   ]
  },
  {
   "cell_type": "markdown",
   "metadata": {
    "colab_type": "text",
    "id": "kEUu5eFpOWJi"
   },
   "source": [
    "<h2> Question 2 (10 Marks) </h2>\n",
    "\n",
    "Firstly, please use the model created in the previous question to predict for the labels of the $\\textbf{train}$ data. Consequently, our objective is to compare this ``predict.label`` with the ``truth.label`` from the $\\textbf{test}$ data. However, as we don't know the $\\textbf{test}$ label, we have to estimate model performance using $\\textbf{train}$ data at this moment.\n",
    "\n",
    "Secondly, since our objective is to estimate the performance of this model in making correct predictions; thus, this question also asks you to explore different [performance metrics](https://en.wikipedia.org/wiki/Precision_and_recall) for classification models. The metrics we will use are $\\textbf{Accuracy, Precision, Recall, and F1 Score}$, please create a function to calculate these value and print them out properly using the given structure.\n",
    "\n",
    "Additionally, please also discuss the results of these values in the context of your model.\n",
    "\n",
    "$\\textbf{Note}$: This asks for your descriptions, please refrain from using one or two lines to describe/discuss the effect. Keep answers to be 4 decimal places"
   ]
  },
  {
   "cell_type": "markdown",
   "metadata": {
    "colab_type": "text",
    "id": "0Ybm3VKDOWJe"
   },
   "source": [
    "__<span style=\"color:blue\">SOLUTION 2:</span>__ \n",
    "\n",
    "Accuracy measured using the true postive and true negative values. After looking at the confusion matrix value, we find that the true negative values are indeed very high as compared to the true positive value. But still my accuracy is high. \n",
    "\n",
    "The value of precision, recall and f1-score the value is low in this confusion matrix. "
   ]
  },
  {
   "cell_type": "code",
   "execution_count": null,
   "metadata": {},
   "outputs": [],
   "source": [
    "# Apply your previous model to perform prediction, keep type = \"response\"\n",
    "# Don't worry if you receive some warnings, they are benign\n",
    "predict.label <- predict(glm.fit,train,type = \"response\")\n",
    "\n",
    "# Truth label from train data\n",
    "truth.label <- train$Salary"
   ]
  },
  {
   "cell_type": "code",
   "execution_count": null,
   "metadata": {},
   "outputs": [],
   "source": [
    "# Model statistics function\n",
    "mod.stat <- function(predict.label, truth.label){\n",
    "    # instantiate the variables\n",
    "    accuracy <- NULL\n",
    "    precision <- NULL\n",
    "    recall <- NULL\n",
    "    F1 <- NULL\n",
    "    \n",
    "    ##############################\n",
    "    #Your calculatation here\n",
    "\n",
    "    # Creating an confusion table. Predicted probabilities which are > 0.5 as true and vice-versa\n",
    "    predict.label <- table(truth.label, predict.label > 0.5)\n",
    "    \n",
    "    accuracy <- round(sum(diag(predict.label)) / sum(predict.label),4)\n",
    "    precision <- round(predict.label[2,2] / (predict.label[2,2] + predict.label[1,2]),4)\n",
    "    recall <- round(predict.label[2,2] / (predict.label[2,2] + predict.label[2,1]),4)\n",
    "    F1 <- 2 * round(((precision * recall) / (precision + recall)),4)\n",
    "    \n",
    "    \n",
    "    ##############################\n",
    "    \n",
    "    # Return a list of value\n",
    "    return(list(\"accuracy\" = accuracy, \"precision\" = precision, \"recall\" = recall, \"fscore\" = F1))\n",
    "}"
   ]
  },
  {
   "cell_type": "code",
   "execution_count": null,
   "metadata": {},
   "outputs": [],
   "source": [
    "mod.stat(predict.label, truth.label)"
   ]
  },
  {
   "cell_type": "markdown",
   "metadata": {
    "colab_type": "text",
    "id": "C6XyKtwfOWJj"
   },
   "source": [
    "<h2> Question 3 (5 Marks) </h2>\n",
    "\n",
    "Use the stepwise selection procedure with the $\\textbf{BIC}$ penalty to prune out potentially unimportant variables. Checking the performance of your model using the created ``mod.stat()`` function, please give your discussion as how this model is compared with the ``glm.fit``(you can run the ``mod.stat()`` function for this as well if you want to).\n",
    "\n",
    "$\\textbf{Note}$: please don't change the default direction ``both`` in the step function, this is so that we can check your work easily. Additionally, please name this model ``sw.fit``. Don't worry about the warnings, they are benign"
   ]
  },
  {
   "cell_type": "markdown",
   "metadata": {
    "colab_type": "text",
    "id": "0Ybm3VKDOWJe"
   },
   "source": [
    "__<span style=\"color:blue\">SOLUTION 3:</span>__ \n",
    "\n",
    "From the data we can see that sw.fit has slightly higher precision in comparision to glm.fit. however sw.fit has lower F1 and recall score in comparision to glm.fit. sw.fit and glm.fit don't have any significat improvement over each other"
   ]
  },
  {
   "cell_type": "code",
   "execution_count": null,
   "metadata": {},
   "outputs": [],
   "source": [
    "# Setting to suppress warnings\n",
    "options(warn=-1)\n",
    "# Fit a stepwise model\n",
    "sw.fit <- step(glm.fit,trace = 0,k = log(nrow(train)), direction=\"both\")\n",
    "# Setting to suppress warnings\n",
    "options(warn=0)\n",
    "# Getting the summary to understand the result\n",
    "summary(sw.fit)"
   ]
  },
  {
   "cell_type": "code",
   "execution_count": null,
   "metadata": {},
   "outputs": [],
   "source": [
    "# Making prediction using train data and view the statistics\n",
    "predict.label <- NULL\n",
    "predict.label <- predict(sw.fit,train,type = \"response\")"
   ]
  },
  {
   "cell_type": "code",
   "execution_count": null,
   "metadata": {},
   "outputs": [],
   "source": [
    "# Only run the below if you have labels, in your submission, this must be UNCOMMENTED\n",
    "mod.stat(predict.label, truth.label)"
   ]
  },
  {
   "cell_type": "markdown",
   "metadata": {},
   "source": [
    "PROVIDE DISCUSSION HERE"
   ]
  },
  {
   "cell_type": "markdown",
   "metadata": {},
   "source": [
    "<h2> Question 4 (Libraries are allowed) (25 Marks) </h2>\n",
    "\n",
    "Similar to the first part, to simulate for a realistic modelling process, this question will be in the form of a competition among students to find out who has the best model.\n",
    "\n",
    "Thus, You will be graded by the performance of your model compared to your classmates', the better your model, the higher your score. Additionally, you need to write a short paragraph describing/documenting your thought process in this model building process ``(300 words)``. Note that this is to explain to us why you build your current model so that we can verify that you understand the model you build and not just copy from other people.\n",
    "\n",
    "$\\textbf{Note}$ Please make sure that we can install the libraries that you use in this part, the code structure can be:\n",
    "\n",
    "``install.packages(\"some package\", repos='http://cran.us.r-project.org')``\n",
    "\n",
    "``library(\"some package\")``\n",
    "\n",
    "Remember that if we cannot run your code, we will have to give you a deduction, our suggestion is for you to use the standard ``R version 3.6.1``\n",
    "\n",
    "You also need to name your final model ``fin.mod`` so we can run a check to find out your performance. A good test for your understanding would be to set the previous $\\textbf{BIC model}$ to be the final model to check if your code works perfectly.\n",
    "\n",
    "\n",
    "$20$ Marks for the model performance in the competition\n",
    "\n",
    "$5$ Marks for logically writing down the thought process in building the final model\n",
    "\n",
    "This is the [link](https://www.kaggle.com/t/1bdebc96607742dbaf47ab36cd3ae421) to the competition"
   ]
  },
  {
   "cell_type": "markdown",
   "metadata": {},
   "source": [
    "__<span style=\"color:blue\">SOLUTION 4:</span>__ \n",
    "\n",
    "After pruning the data using BIC criterion, the Accuarcy has observed to be 0.84. Hence, to improve the accuracy (RMSE score) first we need an better model \n",
    "\n",
    "Few Models were tried such as SVM, h2o and train function but best non tuned accuracy was observed using ranger. Which uses randomForest techniques. Further randomForest modelling were used as final model as in comparision with other models tried, RandomForest resulted in better score when checked for output on kaggle. After that hyper parameter optimization were neccesary to extract best Accuarcy.\n",
    "\n",
    "After multiple experiments combination of parameters were found which result in best score so far."
   ]
  },
  {
   "cell_type": "code",
   "execution_count": null,
   "metadata": {
    "scrolled": true
   },
   "outputs": [],
   "source": [
    "# Library used\n",
    "\n",
    "# install.packages(\"ranger\")\n",
    "library(ranger)"
   ]
  },
  {
   "cell_type": "code",
   "execution_count": null,
   "metadata": {},
   "outputs": [],
   "source": [
    "# Build your final model here, use additional coding block if you want to\n",
    "fin.mod <- NULL\n",
    "# An example would be use the previous model as your final one\n",
    "fin.mod <- ranger(Salary ~ .,data = train, mtry = 3,min.node.size = 4,num.tree = 900)"
   ]
  },
  {
   "cell_type": "code",
   "execution_count": null,
   "metadata": {
    "scrolled": true
   },
   "outputs": [],
   "source": [
    "# Getting the predict label for the TEST data\n",
    "pred.label <- predict(fin.mod, test)\n",
    "pred.label <- (pred.label$predictions > 0)"
   ]
  },
  {
   "cell_type": "code",
   "execution_count": null,
   "metadata": {},
   "outputs": [],
   "source": [
    "# PLEASE DO NOT ALTER THIS CODE BLOCK\n",
    "# Use this csv file to commit to the leaderboard\n",
    "write.csv(data.frame(\"RowIndex\" = seq(1, length(pred.label)), \"Prediction\" = pred.label),  \n",
    "          \"ClassPredictLabel.csv\", row.names = F)"
   ]
  },
  {
   "cell_type": "code",
   "execution_count": null,
   "metadata": {},
   "outputs": [],
   "source": [
    "## PLEASE DO NOT ALTER THIS CODE BLOCK\n",
    "## Please skip (don't run) this if you are a student\n",
    "## For teaching team use only\n",
    "source(\"../data/modassess.r\")\n",
    "model.perf <- mod.stat.test(pred.label,label$Label)\n",
    "print(model.perf)"
   ]
  },
  {
   "cell_type": "markdown",
   "metadata": {
    "colab_type": "text",
    "id": "Va7-A1UviCmz"
   },
   "source": [
    "<h1>References</h1>"
   ]
  }
 ],
 "metadata": {
  "colab": {
   "collapsed_sections": [],
   "name": "Assignment 1 Instructions and Contents.ipynb",
   "provenance": []
  },
  "kernelspec": {
   "display_name": "R",
   "language": "R",
   "name": "ir"
  },
  "language_info": {
   "codemirror_mode": "r",
   "file_extension": ".r",
   "mimetype": "text/x-r-source",
   "name": "R",
   "pygments_lexer": "r",
   "version": "3.6.1"
  }
 },
 "nbformat": 4,
 "nbformat_minor": 1
}
